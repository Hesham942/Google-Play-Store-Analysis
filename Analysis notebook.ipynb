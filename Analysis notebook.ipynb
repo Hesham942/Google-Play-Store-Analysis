{
  "cells": [
    {
      "cell_type": "code",
      "execution_count": 89,
      "metadata": {
        "id": "h3LOuai9hikj"
      },
      "outputs": [],
      "source": [
        "from pyspark.sql.types import *\n",
        "from pyspark.sql import SparkSession\n",
        "from pyspark.sql.functions import col\n",
        "from pyspark.sql.functions import col, to_date , isnan, when, count, year, month, avg, sum as pyspark_sum , when , lit , regexp_replace , mean, stddev, when"
      ]
    },
    {
      "cell_type": "code",
      "execution_count": 37,
      "metadata": {
        "id": "ptg9phu9fP5f"
      },
      "outputs": [],
      "source": [
        "spark=SparkSession.builder.appName(\"play Store\") \\\n",
        "      .getOrCreate()"
      ]
    },
    {
      "cell_type": "code",
      "execution_count": 65,
      "metadata": {
        "colab": {
          "base_uri": "https://localhost:8080/"
        },
        "id": "-oru3YO3C-j5",
        "outputId": "0767ff0f-d478-49c9-c131-0a17a0f3240a"
      },
      "outputs": [
        {
          "name": "stdout",
          "output_type": "stream",
          "text": [
            "+----------------------------------+--------------------+-----------------+------+------------+--------+----------------+----------------+----+-----+--------+----+---------------+--------------------+--------------------+--------------------+------------+------------+--------------+--------------------+------------+----------------+--------------+-------------------+\n",
            "|                          App Name|              App Id|         Category|Rating|Rating Count|Installs|Minimum Installs|Maximum Installs|Free|Price|Currency|Size|Minimum Android|        Developer Id|   Developer Website|     Developer Email|    Released|Last Updated|Content Rating|      Privacy Policy|Ad Supported|In App Purchases|Editors Choice|       Scraped Time|\n",
            "+----------------------------------+--------------------+-----------------+------+------------+--------+----------------+----------------+----+-----+--------+----+---------------+--------------------+--------------------+--------------------+------------+------------+--------------+--------------------+------------+----------------+--------------+-------------------+\n",
            "|                           Gakondo| com.ishakwe.gakondo|        Adventure|   0.0|           0|     10+|              10|              15|True|    0|     USD| 10M|     7.1 and up|Jean Confident Ir...|https://beniyizib...|jean21101999@gmai...|Feb 26, 2020|Feb 26, 2020|      Everyone|https://beniyizib...|       False|           False|         False|2021-06-15 20:19:35|\n",
            "|               Ampere Battery Info|com.webserveis.ba...|            Tools|   4.4|          64|  5,000+|            5000|            7662|True|    0|     USD|2.9M|     5.0 and up|          Webserveis|https://webservei...|webserveis@gmail.com|May 21, 2020|May 06, 2021|      Everyone|https://dev4phone...|        True|           False|         False|2021-06-15 20:19:35|\n",
            "|                            Vibook|com.doantiepvien.crm|     Productivity|   0.0|           0|     50+|              50|              58|True|    0|     USD|3.7M|   4.0.3 and up|          Cabin Crew|                NULL| vnacrewit@gmail.com| Aug 9, 2019|Aug 19, 2019|      Everyone|https://www.vietn...|       False|           False|         False|2021-06-15 20:19:35|\n",
            "|              Smart City Trichy...|cst.stJoseph.ug17...|    Communication|   5.0|           5|     10+|              10|              19|True|    0|     USD|1.8M|   4.0.3 and up| Climate Smart Tech2|http://www.climat...|climatesmarttech2...|Sep 10, 2018|Oct 13, 2018|      Everyone|                NULL|        True|           False|         False|2021-06-15 20:19:35|\n",
            "|                           GROW.me|com.horodyski.grower|            Tools|   0.0|           0|    100+|             100|             478|True|    0|     USD|6.2M|     4.1 and up|Rafal Milek-Horod...|http://www.horody...|rmilekhorodyski@g...|Feb 21, 2020|Nov 12, 2018|      Everyone|http://www.horody...|       False|           False|         False|2021-06-15 20:19:35|\n",
            "|                            IMOCCI|          com.imocci|           Social|   0.0|           0|     50+|              50|              89|True|    0|     USD| 46M|     6.0 and up|         Imocci GmbH|http://www.imocci...|     info@imocci.com|Dec 24, 2018|Dec 20, 2019|          Teen|https://www.imocc...|       False|            True|         False|2021-06-15 20:19:35|\n",
            "|              unlimited 4G data...|getfreedata.super...| Libraries & Demo|   4.5|          12|  1,000+|            1000|            2567|True|    0|     USD|2.5M|     4.1 and up|android developer779|                NULL|aitomgharfatimezz...|Sep 23, 2019|Sep 27, 2019|      Everyone|https://sites.goo...|        True|           False|         False|2021-06-15 20:19:35|\n",
            "|              The Everyday Cale...|com.mozaix.simone...|        Lifestyle|   2.0|          39|    500+|             500|             702|True|    0|     USD| 16M|     5.0 and up|          Mozaix LLC|                NULL|elementuser03@gma...|Jun 21, 2019|Jun 21, 2019|      Everyone|https://www.freep...|       False|           False|         False|2021-06-15 20:19:35|\n",
            "|                         WhatsOpen|   com.whatsopen.app|    Communication|   0.0|           0|     10+|              10|              18|True|    0|     USD|1.3M|     4.4 and up|Yilver Molina Hur...|http://yilvermoli...|yilver.mh1996@gma...|        NULL|Dec 07, 2018|          Teen|http://elcafedela...|       False|           False|         False|2021-06-15 20:19:35|\n",
            "|              Neon 3d Iron Tech...|com.ikeyboard.the...|  Personalization|   4.7|         820| 50,000+|           50000|           62433|True|    0|     USD|3.5M|     4.1 and up|Free 2021 Themes ...|https://trendytem...|trendyteme.888@gm...|Sep 22, 2019|Oct 07, 2020|      Everyone|http://bit.ly/Emo...|        True|           False|         False|2021-06-15 20:19:35|\n",
            "|                   Dodge The Cars!|com.MrScratchEnte...|           Racing|   4.9|          55|    100+|             100|             329|True|    0|     USD| 51M|     4.4 and up|           MrScratch|                NULL|mithalaarush@gmai...|Jul 30, 2020|Jul 30, 2020|      Everyone|https://docs.goog...|       False|           False|         False|2021-06-15 20:19:35|\n",
            "|                           Parents|com.eqra.android....|Maps & Navigation|   0.0|           0|    100+|             100|             330|True|    0|     USD|2.7M|     4.0 and up|           Eqra Tech|http://www.hafizq...|hhiyassat@eqratec...|Jan 10, 2018|Jun 27, 2018|      Everyone|https://docs.goog...|       False|           False|         False|2021-06-15 20:19:36|\n",
            "|桃園機場捷運時刻表 - 捷運轉乘路...|com.jieapp.taoyua...|   Travel & Local|   3.9|         118| 10,000+|           10000|           37763|True|    0|     USD|7.6M|     4.2 and up|             Jie App|https://jie-app.h...| jie.myapp@gmail.com| Apr 3, 2018|Jun 11, 2021|      Everyone|http://appsetting...|        True|           False|         False|2021-06-15 20:19:36|\n",
            "|                      be.MOBILISED|com.hastobe.bemob...|Maps & Navigation|   0.0|           0|    100+|             100|             274|True|    0|     USD| 15M|     6.0 and up|      has.to.be gmbh|http://www.has-to...|support@has-to-be...| Feb 9, 2020|May 14, 2021|      Everyone|https://has-to-be...|       False|           False|         False|2021-06-15 20:19:36|\n",
            "|                 Caliway Conductor|com.caliwayconduc...|   Travel & Local|   3.7|        1572| 10,000+|           10000|           42856|True|    0|     USD| 29M|     4.2 and up|             WayCali|https://www.faceb...|waycalicol@gmail.com| Sep 5, 2018|May 30, 2020|      Everyone|https://www.faceb...|       False|           False|         False|2021-06-15 20:19:36|\n",
            "|              Readymade Grocery...|com.ionicfirebase...|     Food & Drink|   4.2|          16|  1,000+|            1000|            4313|True|    0|     USD| 12M|     4.4 and up|     pietechsolution|https://www.ionic...|info@ionicfirebas...| Apr 5, 2020|Mar 23, 2021|      Everyone|https://www.ionic...|       False|           False|         False|2021-06-15 20:19:36|\n",
            "|              OTENTIK Discovery FR|com.camineo.otent...|   Travel & Local|   3.4|           5|    500+|             500|             949|True|    0|     USD|2.9M|     4.4 and up|     Hotels Attitude|http://www.hotels...|info@hotels-attit...|Nov 28, 2016|Oct 30, 2019|      Everyone|http://camineo.co...|       False|           False|         False|2021-06-15 20:19:36|\n",
            "|              All in one shoppi...|com.tkapplication...|            Tools|   5.0|           6|     50+|              50|              62|True|    0|     USD|2.0M|     4.1 and up|     TK Applications|                NULL|tkapplications001...|Apr 24, 2019|May 05, 2019|      Everyone|                NULL|       False|           False|         False|2021-06-15 20:19:36|\n",
            "|                    REDMOND  Robot|    com.grit.redmond|        Lifestyle|   3.7|         328| 10,000+|           10000|           31235|True|    0|     USD| 70M|     4.1 and up|     Grit Technology|                NULL|info@redmond.company| Jul 1, 2020|May 26, 2021|      Everyone|https://redmond.c...|       False|           False|         False|2021-06-15 20:19:36|\n",
            "|              Contemporary Love...|com.felingdev.low...|Books & Reference|   0.0|           0|      1+|               1|               2|True|    0|     XXX| 11M|     4.2 and up|    Human Droid Apps|                NULL|farukabdillah4@gm...|Dec 26, 2020|Mar 23, 2021|    Mature 17+|https://docs.goog...|        True|           False|         False|2021-06-15 20:19:36|\n",
            "+----------------------------------+--------------------+-----------------+------+------------+--------+----------------+----------------+----+-----+--------+----+---------------+--------------------+--------------------+--------------------+------------+------------+--------------+--------------------+------------+----------------+--------------+-------------------+\n",
            "only showing top 20 rows\n",
            "\n"
          ]
        }
      ],
      "source": [
        "df = spark.read.csv('Google-Playstore.csv', header=True, inferSchema=False)\n",
        "df.show()"
      ]
    },
    {
      "cell_type": "code",
      "execution_count": 66,
      "metadata": {
        "colab": {
          "base_uri": "https://localhost:8080/"
        },
        "id": "XTo0_SWgDMuC",
        "outputId": "402622d1-ec58-4c1e-b2c9-6f0e0aa702f4"
      },
      "outputs": [
        {
          "name": "stdout",
          "output_type": "stream",
          "text": [
            "root\n",
            " |-- App Name: string (nullable = true)\n",
            " |-- App Id: string (nullable = true)\n",
            " |-- Category: string (nullable = true)\n",
            " |-- Rating: string (nullable = true)\n",
            " |-- Rating Count: string (nullable = true)\n",
            " |-- Installs: string (nullable = true)\n",
            " |-- Minimum Installs: string (nullable = true)\n",
            " |-- Maximum Installs: string (nullable = true)\n",
            " |-- Free: string (nullable = true)\n",
            " |-- Price: string (nullable = true)\n",
            " |-- Currency: string (nullable = true)\n",
            " |-- Size: string (nullable = true)\n",
            " |-- Minimum Android: string (nullable = true)\n",
            " |-- Developer Id: string (nullable = true)\n",
            " |-- Developer Website: string (nullable = true)\n",
            " |-- Developer Email: string (nullable = true)\n",
            " |-- Released: string (nullable = true)\n",
            " |-- Last Updated: string (nullable = true)\n",
            " |-- Content Rating: string (nullable = true)\n",
            " |-- Privacy Policy: string (nullable = true)\n",
            " |-- Ad Supported: string (nullable = true)\n",
            " |-- In App Purchases: string (nullable = true)\n",
            " |-- Editors Choice: string (nullable = true)\n",
            " |-- Scraped Time: string (nullable = true)\n",
            "\n"
          ]
        }
      ],
      "source": [
        "df.printSchema()"
      ]
    },
    {
      "cell_type": "markdown",
      "metadata": {},
      "source": [
        "# Dropping unnecessary columns"
      ]
    },
    {
      "cell_type": "code",
      "execution_count": 67,
      "metadata": {
        "colab": {
          "base_uri": "https://localhost:8080/"
        },
        "id": "asojfIsdE_Ta",
        "outputId": "f52016cc-aa4e-41ce-e4ab-982ba6d1c276"
      },
      "outputs": [
        {
          "name": "stdout",
          "output_type": "stream",
          "text": [
            "+----------------------------------+--------------------+-----------------+------+------------+--------+----------------+----------------+-----+--------+----+---------------+--------------------+--------------------+------------+------------+--------------+------------+----------------+--------------+-------------------+\n",
            "|                          App Name|              App Id|         Category|Rating|Rating Count|Installs|Minimum Installs|Maximum Installs|Price|Currency|Size|Minimum Android|        Developer Id|     Developer Email|    Released|Last Updated|Content Rating|Ad Supported|In App Purchases|Editors Choice|       Scraped Time|\n",
            "+----------------------------------+--------------------+-----------------+------+------------+--------+----------------+----------------+-----+--------+----+---------------+--------------------+--------------------+------------+------------+--------------+------------+----------------+--------------+-------------------+\n",
            "|                           Gakondo| com.ishakwe.gakondo|        Adventure|   0.0|           0|     10+|              10|              15|    0|     USD| 10M|     7.1 and up|Jean Confident Ir...|jean21101999@gmai...|Feb 26, 2020|Feb 26, 2020|      Everyone|       False|           False|         False|2021-06-15 20:19:35|\n",
            "|               Ampere Battery Info|com.webserveis.ba...|            Tools|   4.4|          64|  5,000+|            5000|            7662|    0|     USD|2.9M|     5.0 and up|          Webserveis|webserveis@gmail.com|May 21, 2020|May 06, 2021|      Everyone|        True|           False|         False|2021-06-15 20:19:35|\n",
            "|                            Vibook|com.doantiepvien.crm|     Productivity|   0.0|           0|     50+|              50|              58|    0|     USD|3.7M|   4.0.3 and up|          Cabin Crew| vnacrewit@gmail.com| Aug 9, 2019|Aug 19, 2019|      Everyone|       False|           False|         False|2021-06-15 20:19:35|\n",
            "|              Smart City Trichy...|cst.stJoseph.ug17...|    Communication|   5.0|           5|     10+|              10|              19|    0|     USD|1.8M|   4.0.3 and up| Climate Smart Tech2|climatesmarttech2...|Sep 10, 2018|Oct 13, 2018|      Everyone|        True|           False|         False|2021-06-15 20:19:35|\n",
            "|                           GROW.me|com.horodyski.grower|            Tools|   0.0|           0|    100+|             100|             478|    0|     USD|6.2M|     4.1 and up|Rafal Milek-Horod...|rmilekhorodyski@g...|Feb 21, 2020|Nov 12, 2018|      Everyone|       False|           False|         False|2021-06-15 20:19:35|\n",
            "|                            IMOCCI|          com.imocci|           Social|   0.0|           0|     50+|              50|              89|    0|     USD| 46M|     6.0 and up|         Imocci GmbH|     info@imocci.com|Dec 24, 2018|Dec 20, 2019|          Teen|       False|            True|         False|2021-06-15 20:19:35|\n",
            "|              unlimited 4G data...|getfreedata.super...| Libraries & Demo|   4.5|          12|  1,000+|            1000|            2567|    0|     USD|2.5M|     4.1 and up|android developer779|aitomgharfatimezz...|Sep 23, 2019|Sep 27, 2019|      Everyone|        True|           False|         False|2021-06-15 20:19:35|\n",
            "|              The Everyday Cale...|com.mozaix.simone...|        Lifestyle|   2.0|          39|    500+|             500|             702|    0|     USD| 16M|     5.0 and up|          Mozaix LLC|elementuser03@gma...|Jun 21, 2019|Jun 21, 2019|      Everyone|       False|           False|         False|2021-06-15 20:19:35|\n",
            "|                         WhatsOpen|   com.whatsopen.app|    Communication|   0.0|           0|     10+|              10|              18|    0|     USD|1.3M|     4.4 and up|Yilver Molina Hur...|yilver.mh1996@gma...|        NULL|Dec 07, 2018|          Teen|       False|           False|         False|2021-06-15 20:19:35|\n",
            "|              Neon 3d Iron Tech...|com.ikeyboard.the...|  Personalization|   4.7|         820| 50,000+|           50000|           62433|    0|     USD|3.5M|     4.1 and up|Free 2021 Themes ...|trendyteme.888@gm...|Sep 22, 2019|Oct 07, 2020|      Everyone|        True|           False|         False|2021-06-15 20:19:35|\n",
            "|                   Dodge The Cars!|com.MrScratchEnte...|           Racing|   4.9|          55|    100+|             100|             329|    0|     USD| 51M|     4.4 and up|           MrScratch|mithalaarush@gmai...|Jul 30, 2020|Jul 30, 2020|      Everyone|       False|           False|         False|2021-06-15 20:19:35|\n",
            "|                           Parents|com.eqra.android....|Maps & Navigation|   0.0|           0|    100+|             100|             330|    0|     USD|2.7M|     4.0 and up|           Eqra Tech|hhiyassat@eqratec...|Jan 10, 2018|Jun 27, 2018|      Everyone|       False|           False|         False|2021-06-15 20:19:36|\n",
            "|桃園機場捷運時刻表 - 捷運轉乘路...|com.jieapp.taoyua...|   Travel & Local|   3.9|         118| 10,000+|           10000|           37763|    0|     USD|7.6M|     4.2 and up|             Jie App| jie.myapp@gmail.com| Apr 3, 2018|Jun 11, 2021|      Everyone|        True|           False|         False|2021-06-15 20:19:36|\n",
            "|                      be.MOBILISED|com.hastobe.bemob...|Maps & Navigation|   0.0|           0|    100+|             100|             274|    0|     USD| 15M|     6.0 and up|      has.to.be gmbh|support@has-to-be...| Feb 9, 2020|May 14, 2021|      Everyone|       False|           False|         False|2021-06-15 20:19:36|\n",
            "|                 Caliway Conductor|com.caliwayconduc...|   Travel & Local|   3.7|        1572| 10,000+|           10000|           42856|    0|     USD| 29M|     4.2 and up|             WayCali|waycalicol@gmail.com| Sep 5, 2018|May 30, 2020|      Everyone|       False|           False|         False|2021-06-15 20:19:36|\n",
            "|              Readymade Grocery...|com.ionicfirebase...|     Food & Drink|   4.2|          16|  1,000+|            1000|            4313|    0|     USD| 12M|     4.4 and up|     pietechsolution|info@ionicfirebas...| Apr 5, 2020|Mar 23, 2021|      Everyone|       False|           False|         False|2021-06-15 20:19:36|\n",
            "|              OTENTIK Discovery FR|com.camineo.otent...|   Travel & Local|   3.4|           5|    500+|             500|             949|    0|     USD|2.9M|     4.4 and up|     Hotels Attitude|info@hotels-attit...|Nov 28, 2016|Oct 30, 2019|      Everyone|       False|           False|         False|2021-06-15 20:19:36|\n",
            "|              All in one shoppi...|com.tkapplication...|            Tools|   5.0|           6|     50+|              50|              62|    0|     USD|2.0M|     4.1 and up|     TK Applications|tkapplications001...|Apr 24, 2019|May 05, 2019|      Everyone|       False|           False|         False|2021-06-15 20:19:36|\n",
            "|                    REDMOND  Robot|    com.grit.redmond|        Lifestyle|   3.7|         328| 10,000+|           10000|           31235|    0|     USD| 70M|     4.1 and up|     Grit Technology|info@redmond.company| Jul 1, 2020|May 26, 2021|      Everyone|       False|           False|         False|2021-06-15 20:19:36|\n",
            "|              Contemporary Love...|com.felingdev.low...|Books & Reference|   0.0|           0|      1+|               1|               2|    0|     XXX| 11M|     4.2 and up|    Human Droid Apps|farukabdillah4@gm...|Dec 26, 2020|Mar 23, 2021|    Mature 17+|        True|           False|         False|2021-06-15 20:19:36|\n",
            "+----------------------------------+--------------------+-----------------+------+------------+--------+----------------+----------------+-----+--------+----+---------------+--------------------+--------------------+------------+------------+--------------+------------+----------------+--------------+-------------------+\n",
            "only showing top 20 rows\n",
            "\n"
          ]
        }
      ],
      "source": [
        "\n",
        "\n",
        "df = df.drop('Developer Website', 'Free','Privacy Policy')\n",
        "df.show()\n"
      ]
    },
    {
      "cell_type": "markdown",
      "metadata": {},
      "source": [
        "## Changing the datatype of Scraping time column and reducing it into a unified format 'YYYY-MM-DD'"
      ]
    },
    {
      "cell_type": "code",
      "execution_count": 68,
      "metadata": {},
      "outputs": [
        {
          "name": "stdout",
          "output_type": "stream",
          "text": [
            "+-------------------------------------------------------+---------------------------------------------+-----------------+------+------------+--------+----------------+----------------+-----+--------+----+---------------+-----------------------------------+-------------------------------+------------+------------+--------------+------------+----------------+--------------+------------+\n",
            "|App Name                                               |App Id                                       |Category         |Rating|Rating Count|Installs|Minimum Installs|Maximum Installs|Price|Currency|Size|Minimum Android|Developer Id                       |Developer Email                |Released    |Last Updated|Content Rating|Ad Supported|In App Purchases|Editors Choice|Scraped Time|\n",
            "+-------------------------------------------------------+---------------------------------------------+-----------------+------+------------+--------+----------------+----------------+-----+--------+----+---------------+-----------------------------------+-------------------------------+------------+------------+--------------+------------+----------------+--------------+------------+\n",
            "|Gakondo                                                |com.ishakwe.gakondo                          |Adventure        |0.0   |0           |10+     |10              |15              |0    |USD     |10M |7.1 and up     |Jean Confident Irénée NIYIZIBYOSE  |jean21101999@gmail.com         |Feb 26, 2020|Feb 26, 2020|Everyone      |False       |False           |False         |2021-06-15  |\n",
            "|Ampere Battery Info                                    |com.webserveis.batteryinfo                   |Tools            |4.4   |64          |5,000+  |5000            |7662            |0    |USD     |2.9M|5.0 and up     |Webserveis                         |webserveis@gmail.com           |May 21, 2020|May 06, 2021|Everyone      |True        |False           |False         |2021-06-15  |\n",
            "|Vibook                                                 |com.doantiepvien.crm                         |Productivity     |0.0   |0           |50+     |50              |58              |0    |USD     |3.7M|4.0.3 and up   |Cabin Crew                         |vnacrewit@gmail.com            |Aug 9, 2019 |Aug 19, 2019|Everyone      |False       |False           |False         |2021-06-15  |\n",
            "|Smart City Trichy Public Service Vehicles 17UCS548     |cst.stJoseph.ug17ucs548                      |Communication    |5.0   |5           |10+     |10              |19              |0    |USD     |1.8M|4.0.3 and up   |Climate Smart Tech2                |climatesmarttech2@gmail.com    |Sep 10, 2018|Oct 13, 2018|Everyone      |True        |False           |False         |2021-06-15  |\n",
            "|GROW.me                                                |com.horodyski.grower                         |Tools            |0.0   |0           |100+    |100             |478             |0    |USD     |6.2M|4.1 and up     |Rafal Milek-Horodyski              |rmilekhorodyski@gmail.com      |Feb 21, 2020|Nov 12, 2018|Everyone      |False       |False           |False         |2021-06-15  |\n",
            "|IMOCCI                                                 |com.imocci                                   |Social           |0.0   |0           |50+     |50              |89              |0    |USD     |46M |6.0 and up     |Imocci GmbH                        |info@imocci.com                |Dec 24, 2018|Dec 20, 2019|Teen          |False       |True            |False         |2021-06-15  |\n",
            "|unlimited 4G data prank free app                       |getfreedata.superfatiza.unlimitedjiodataprank|Libraries & Demo |4.5   |12          |1,000+  |1000            |2567            |0    |USD     |2.5M|4.1 and up     |android developer779               |aitomgharfatimezzahra@gmail.com|Sep 23, 2019|Sep 27, 2019|Everyone      |True        |False           |False         |2021-06-15  |\n",
            "|The Everyday Calendar                                  |com.mozaix.simoneboard                       |Lifestyle        |2.0   |39          |500+    |500             |702             |0    |USD     |16M |5.0 and up     |Mozaix LLC                         |elementuser03@gmail.com        |Jun 21, 2019|Jun 21, 2019|Everyone      |False       |False           |False         |2021-06-15  |\n",
            "|WhatsOpen                                              |com.whatsopen.app                            |Communication    |0.0   |0           |10+     |10              |18              |0    |USD     |1.3M|4.4 and up     |Yilver Molina Hurtatiz             |yilver.mh1996@gmail.com        |NULL        |Dec 07, 2018|Teen          |False       |False           |False         |2021-06-15  |\n",
            "|Neon 3d Iron Tech Keyboard Theme                       |com.ikeyboard.theme.neon_3d.iron.tech        |Personalization  |4.7   |820         |50,000+ |50000           |62433           |0    |USD     |3.5M|4.1 and up     |Free 2021 Themes for Emoji keyboard|trendyteme.888@gmail.com       |Sep 22, 2019|Oct 07, 2020|Everyone      |True        |False           |False         |2021-06-15  |\n",
            "|Dodge The Cars!                                        |com.MrScratchEnterprises.CarDogeGame         |Racing           |4.9   |55          |100+    |100             |329             |0    |USD     |51M |4.4 and up     |MrScratch                          |mithalaarush@gmail.com         |Jul 30, 2020|Jul 30, 2020|Everyone      |False       |False           |False         |2021-06-15  |\n",
            "|Parents                                                |com.eqra.android.BSTS.parent                 |Maps & Navigation|0.0   |0           |100+    |100             |330             |0    |USD     |2.7M|4.0 and up     |Eqra Tech                          |hhiyassat@eqratech.com         |Jan 10, 2018|Jun 27, 2018|Everyone      |False       |False           |False         |2021-06-15  |\n",
            "|桃園機場捷運時刻表 - 捷運轉乘路線快速查詢(支援台北捷運)|com.jieapp.taoyuanmetro                      |Travel & Local   |3.9   |118         |10,000+ |10000           |37763           |0    |USD     |7.6M|4.2 and up     |Jie App                            |jie.myapp@gmail.com            |Apr 3, 2018 |Jun 11, 2021|Everyone      |True        |False           |False         |2021-06-15  |\n",
            "|be.MOBILISED                                           |com.hastobe.bemobilised                      |Maps & Navigation|0.0   |0           |100+    |100             |274             |0    |USD     |15M |6.0 and up     |has.to.be gmbh                     |support@has-to-be.com          |Feb 9, 2020 |May 14, 2021|Everyone      |False       |False           |False         |2021-06-15  |\n",
            "|Caliway Conductor                                      |com.caliwayconductor.driver                  |Travel & Local   |3.7   |1572        |10,000+ |10000           |42856           |0    |USD     |29M |4.2 and up     |WayCali                            |waycalicol@gmail.com           |Sep 5, 2018 |May 30, 2020|Everyone      |False       |False           |False         |2021-06-15  |\n",
            "|Readymade Grocery App                                  |com.ionicfirebaseapp.readymadegroceryuserapp |Food & Drink     |4.2   |16          |1,000+  |1000            |4313            |0    |USD     |12M |4.4 and up     |pietechsolution                    |info@ionicfirebaseapp.com      |Apr 5, 2020 |Mar 23, 2021|Everyone      |False       |False           |False         |2021-06-15  |\n",
            "|OTENTIK Discovery FR                                   |com.camineo.otentikdiscoveryDLFR             |Travel & Local   |3.4   |5           |500+    |500             |949             |0    |USD     |2.9M|4.4 and up     |Hotels Attitude                    |info@hotels-attitude.com       |Nov 28, 2016|Oct 30, 2019|Everyone      |False       |False           |False         |2021-06-15  |\n",
            "|All in one shopping app                                |com.tkapplications.allinoneshoppingapp       |Tools            |5.0   |6           |50+     |50              |62              |0    |USD     |2.0M|4.1 and up     |TK Applications                    |tkapplications001@gmail.com    |Apr 24, 2019|May 05, 2019|Everyone      |False       |False           |False         |2021-06-15  |\n",
            "|REDMOND  Robot                                         |com.grit.redmond                             |Lifestyle        |3.7   |328         |10,000+ |10000           |31235           |0    |USD     |70M |4.1 and up     |Grit Technology                    |info@redmond.company           |Jul 1, 2020 |May 26, 2021|Everyone      |False       |False           |False         |2021-06-15  |\n",
            "|Contemporary Love Wallpaper HD                         |com.felingdev.lowalpaper                     |Books & Reference|0.0   |0           |1+      |1               |2               |0    |XXX     |11M |4.2 and up     |Human Droid Apps                   |farukabdillah4@gmail.com       |Dec 26, 2020|Mar 23, 2021|Mature 17+    |True        |False           |False         |2021-06-15  |\n",
            "+-------------------------------------------------------+---------------------------------------------+-----------------+------+------------+--------+----------------+----------------+-----+--------+----+---------------+-----------------------------------+-------------------------------+------------+------------+--------------+------------+----------------+--------------+------------+\n",
            "only showing top 20 rows\n",
            "\n"
          ]
        }
      ],
      "source": [
        "df = df.withColumn(\"Scraped Time\", col(\"Scraped Time\").substr(1, 10))\n",
        "\n",
        "\n",
        "df.show(truncate=False)"
      ]
    },
    {
      "cell_type": "markdown",
      "metadata": {},
      "source": [
        "# there is no any missing value in our data"
      ]
    },
    {
      "cell_type": "code",
      "execution_count": 58,
      "metadata": {},
      "outputs": [
        {
          "name": "stdout",
          "output_type": "stream",
          "text": [
            "+--------+------+--------+------+------------+--------+----------------+----------------+-----+--------+----+---------------+------------+---------------+--------+------------+--------------+------------+----------------+--------------+------------+\n",
            "|App Name|App Id|Category|Rating|Rating Count|Installs|Minimum Installs|Maximum Installs|Price|Currency|Size|Minimum Android|Developer Id|Developer Email|Released|Last Updated|Content Rating|Ad Supported|In App Purchases|Editors Choice|Scraped Time|\n",
            "+--------+------+--------+------+------------+--------+----------------+----------------+-----+--------+----+---------------+------------+---------------+--------+------------+--------------+------------+----------------+--------------+------------+\n",
            "|       0|     0|       0|     0|           0|       0|               0|               0|    0|       0|   0|              0|           0|              0|       0|           0|             0|           0|               0|             0|           0|\n",
            "+--------+------+--------+------+------------+--------+----------------+----------------+-----+--------+----+---------------+------------+---------------+--------+------------+--------------+------------+----------------+--------------+------------+\n",
            "\n"
          ]
        }
      ],
      "source": [
        "from pyspark.sql.functions import isnan, when, count, col\n",
        "\n",
        "df.select([count(when(isnan(c), c)).alias(c) for c in df.columns]).show()"
      ]
    },
    {
      "cell_type": "markdown",
      "metadata": {},
      "source": [
        "### The content rating column is divided into several categories.\n",
        "#### Everyone\n",
        "#### Teenager Adult 17 years of age or older\n",
        "#### Everyone 10+\n",
        "#### Not rated\n",
        "#### adults only (18)\n",
        "### For easier comprehension, we are now going to reduce these categories to just three: Everyone, including teenagers and adults\n",
        "\n",
        "#### Mature 17+ ---------> to Adults\n",
        "#### Adults only 18 -----------> to Adults\n",
        "#### Everyone 10+ ------------> to Teen\n",
        "#### Unrated -------------> Everyone"
      ]
    },
    {
      "cell_type": "code",
      "execution_count": 69,
      "metadata": {},
      "outputs": [
        {
          "name": "stdout",
          "output_type": "stream",
          "text": [
            "+----------------------------------+--------------------+-----------------+------+------------+--------+----------------+----------------+-----+--------+----+---------------+--------------------+--------------------+------------+------------+--------------+------------+----------------+--------------+------------+\n",
            "|                          App Name|              App Id|         Category|Rating|Rating Count|Installs|Minimum Installs|Maximum Installs|Price|Currency|Size|Minimum Android|        Developer Id|     Developer Email|    Released|Last Updated|Content Rating|Ad Supported|In App Purchases|Editors Choice|Scraped Time|\n",
            "+----------------------------------+--------------------+-----------------+------+------------+--------+----------------+----------------+-----+--------+----+---------------+--------------------+--------------------+------------+------------+--------------+------------+----------------+--------------+------------+\n",
            "|                           Gakondo| com.ishakwe.gakondo|        Adventure|   0.0|           0|     10+|              10|              15|    0|     USD| 10M|     7.1 and up|Jean Confident Ir...|jean21101999@gmai...|Feb 26, 2020|Feb 26, 2020|      Everyone|       False|           False|         False|  2021-06-15|\n",
            "|               Ampere Battery Info|com.webserveis.ba...|            Tools|   4.4|          64|  5,000+|            5000|            7662|    0|     USD|2.9M|     5.0 and up|          Webserveis|webserveis@gmail.com|May 21, 2020|May 06, 2021|      Everyone|        True|           False|         False|  2021-06-15|\n",
            "|                            Vibook|com.doantiepvien.crm|     Productivity|   0.0|           0|     50+|              50|              58|    0|     USD|3.7M|   4.0.3 and up|          Cabin Crew| vnacrewit@gmail.com| Aug 9, 2019|Aug 19, 2019|      Everyone|       False|           False|         False|  2021-06-15|\n",
            "|              Smart City Trichy...|cst.stJoseph.ug17...|    Communication|   5.0|           5|     10+|              10|              19|    0|     USD|1.8M|   4.0.3 and up| Climate Smart Tech2|climatesmarttech2...|Sep 10, 2018|Oct 13, 2018|      Everyone|        True|           False|         False|  2021-06-15|\n",
            "|                           GROW.me|com.horodyski.grower|            Tools|   0.0|           0|    100+|             100|             478|    0|     USD|6.2M|     4.1 and up|Rafal Milek-Horod...|rmilekhorodyski@g...|Feb 21, 2020|Nov 12, 2018|      Everyone|       False|           False|         False|  2021-06-15|\n",
            "|                            IMOCCI|          com.imocci|           Social|   0.0|           0|     50+|              50|              89|    0|     USD| 46M|     6.0 and up|         Imocci GmbH|     info@imocci.com|Dec 24, 2018|Dec 20, 2019|          Teen|       False|            True|         False|  2021-06-15|\n",
            "|              unlimited 4G data...|getfreedata.super...| Libraries & Demo|   4.5|          12|  1,000+|            1000|            2567|    0|     USD|2.5M|     4.1 and up|android developer779|aitomgharfatimezz...|Sep 23, 2019|Sep 27, 2019|      Everyone|        True|           False|         False|  2021-06-15|\n",
            "|              The Everyday Cale...|com.mozaix.simone...|        Lifestyle|   2.0|          39|    500+|             500|             702|    0|     USD| 16M|     5.0 and up|          Mozaix LLC|elementuser03@gma...|Jun 21, 2019|Jun 21, 2019|      Everyone|       False|           False|         False|  2021-06-15|\n",
            "|                         WhatsOpen|   com.whatsopen.app|    Communication|   0.0|           0|     10+|              10|              18|    0|     USD|1.3M|     4.4 and up|Yilver Molina Hur...|yilver.mh1996@gma...|        NULL|Dec 07, 2018|          Teen|       False|           False|         False|  2021-06-15|\n",
            "|              Neon 3d Iron Tech...|com.ikeyboard.the...|  Personalization|   4.7|         820| 50,000+|           50000|           62433|    0|     USD|3.5M|     4.1 and up|Free 2021 Themes ...|trendyteme.888@gm...|Sep 22, 2019|Oct 07, 2020|      Everyone|        True|           False|         False|  2021-06-15|\n",
            "|                   Dodge The Cars!|com.MrScratchEnte...|           Racing|   4.9|          55|    100+|             100|             329|    0|     USD| 51M|     4.4 and up|           MrScratch|mithalaarush@gmai...|Jul 30, 2020|Jul 30, 2020|      Everyone|       False|           False|         False|  2021-06-15|\n",
            "|                           Parents|com.eqra.android....|Maps & Navigation|   0.0|           0|    100+|             100|             330|    0|     USD|2.7M|     4.0 and up|           Eqra Tech|hhiyassat@eqratec...|Jan 10, 2018|Jun 27, 2018|      Everyone|       False|           False|         False|  2021-06-15|\n",
            "|桃園機場捷運時刻表 - 捷運轉乘路...|com.jieapp.taoyua...|   Travel & Local|   3.9|         118| 10,000+|           10000|           37763|    0|     USD|7.6M|     4.2 and up|             Jie App| jie.myapp@gmail.com| Apr 3, 2018|Jun 11, 2021|      Everyone|        True|           False|         False|  2021-06-15|\n",
            "|                      be.MOBILISED|com.hastobe.bemob...|Maps & Navigation|   0.0|           0|    100+|             100|             274|    0|     USD| 15M|     6.0 and up|      has.to.be gmbh|support@has-to-be...| Feb 9, 2020|May 14, 2021|      Everyone|       False|           False|         False|  2021-06-15|\n",
            "|                 Caliway Conductor|com.caliwayconduc...|   Travel & Local|   3.7|        1572| 10,000+|           10000|           42856|    0|     USD| 29M|     4.2 and up|             WayCali|waycalicol@gmail.com| Sep 5, 2018|May 30, 2020|      Everyone|       False|           False|         False|  2021-06-15|\n",
            "|              Readymade Grocery...|com.ionicfirebase...|     Food & Drink|   4.2|          16|  1,000+|            1000|            4313|    0|     USD| 12M|     4.4 and up|     pietechsolution|info@ionicfirebas...| Apr 5, 2020|Mar 23, 2021|      Everyone|       False|           False|         False|  2021-06-15|\n",
            "|              OTENTIK Discovery FR|com.camineo.otent...|   Travel & Local|   3.4|           5|    500+|             500|             949|    0|     USD|2.9M|     4.4 and up|     Hotels Attitude|info@hotels-attit...|Nov 28, 2016|Oct 30, 2019|      Everyone|       False|           False|         False|  2021-06-15|\n",
            "|              All in one shoppi...|com.tkapplication...|            Tools|   5.0|           6|     50+|              50|              62|    0|     USD|2.0M|     4.1 and up|     TK Applications|tkapplications001...|Apr 24, 2019|May 05, 2019|      Everyone|       False|           False|         False|  2021-06-15|\n",
            "|                    REDMOND  Robot|    com.grit.redmond|        Lifestyle|   3.7|         328| 10,000+|           10000|           31235|    0|     USD| 70M|     4.1 and up|     Grit Technology|info@redmond.company| Jul 1, 2020|May 26, 2021|      Everyone|       False|           False|         False|  2021-06-15|\n",
            "|              Contemporary Love...|com.felingdev.low...|Books & Reference|   0.0|           0|      1+|               1|               2|    0|     XXX| 11M|     4.2 and up|    Human Droid Apps|farukabdillah4@gm...|Dec 26, 2020|Mar 23, 2021|        Adults|        True|           False|         False|  2021-06-15|\n",
            "+----------------------------------+--------------------+-----------------+------+------------+--------+----------------+----------------+-----+--------+----+---------------+--------------------+--------------------+------------+------------+--------------+------------+----------------+--------------+------------+\n",
            "only showing top 20 rows\n",
            "\n"
          ]
        }
      ],
      "source": [
        "df = df.withColumn(\"Content Rating\", \n",
        "                   when(df[\"Content Rating\"] == \"Unrated\", \"Everyone\")\n",
        "                   .when(df[\"Content Rating\"] == \"Adults only 18+\", \"Adults\")\n",
        "                   .when(df[\"Content Rating\"] == \"Mature 17+\", \"Adults\")\n",
        "                   .when(df[\"Content Rating\"] == \"Everyone 10+\", \"Teen\")\n",
        "                   .otherwise(df[\"Content Rating\"]))\n",
        "\n",
        "df.show()"
      ]
    },
    {
      "cell_type": "markdown",
      "metadata": {},
      "source": [
        "# changing the datatype of dates column from string to date"
      ]
    },
    {
      "cell_type": "code",
      "execution_count": 70,
      "metadata": {},
      "outputs": [
        {
          "name": "stdout",
          "output_type": "stream",
          "text": [
            "root\n",
            " |-- App Name: string (nullable = true)\n",
            " |-- App Id: string (nullable = true)\n",
            " |-- Category: string (nullable = true)\n",
            " |-- Rating: string (nullable = true)\n",
            " |-- Rating Count: string (nullable = true)\n",
            " |-- Installs: string (nullable = true)\n",
            " |-- Minimum Installs: string (nullable = true)\n",
            " |-- Maximum Installs: string (nullable = true)\n",
            " |-- Price: string (nullable = true)\n",
            " |-- Currency: string (nullable = true)\n",
            " |-- Size: string (nullable = true)\n",
            " |-- Minimum Android: string (nullable = true)\n",
            " |-- Developer Id: string (nullable = true)\n",
            " |-- Developer Email: string (nullable = true)\n",
            " |-- Released: string (nullable = true)\n",
            " |-- Last Updated: string (nullable = true)\n",
            " |-- Content Rating: string (nullable = true)\n",
            " |-- Ad Supported: string (nullable = true)\n",
            " |-- In App Purchases: string (nullable = true)\n",
            " |-- Editors Choice: string (nullable = true)\n",
            " |-- Scraped Time: date (nullable = true)\n",
            "\n"
          ]
        }
      ],
      "source": [
        "df = df.withColumn(\"Scraped Time\", to_date(col(\"Scraped Time\")))\n",
        "df.printSchema()"
      ]
    },
    {
      "cell_type": "markdown",
      "metadata": {},
      "source": [
        "# Changing the data types of columns to be ready for EDA"
      ]
    },
    {
      "cell_type": "code",
      "execution_count": 71,
      "metadata": {},
      "outputs": [
        {
          "name": "stdout",
          "output_type": "stream",
          "text": [
            "root\n",
            " |-- App Name: string (nullable = true)\n",
            " |-- App Id: string (nullable = true)\n",
            " |-- Category: string (nullable = true)\n",
            " |-- Rating: float (nullable = true)\n",
            " |-- Rating Count: integer (nullable = true)\n",
            " |-- Installs: string (nullable = true)\n",
            " |-- Minimum Installs: integer (nullable = true)\n",
            " |-- Maximum Installs: integer (nullable = true)\n",
            " |-- Price: float (nullable = true)\n",
            " |-- Currency: string (nullable = true)\n",
            " |-- Size: string (nullable = true)\n",
            " |-- Minimum Android: string (nullable = true)\n",
            " |-- Developer Id: string (nullable = true)\n",
            " |-- Developer Email: string (nullable = true)\n",
            " |-- Released: string (nullable = true)\n",
            " |-- Last Updated: string (nullable = true)\n",
            " |-- Content Rating: string (nullable = true)\n",
            " |-- Ad Supported: string (nullable = true)\n",
            " |-- In App Purchases: string (nullable = true)\n",
            " |-- Editors Choice: string (nullable = true)\n",
            " |-- Scraped Time: date (nullable = true)\n",
            "\n"
          ]
        }
      ],
      "source": [
        "df=df.withColumn(\"Rating\", df[\"Rating\"].cast(FloatType()))\n",
        "df=df.withColumn(\"Rating Count\", df[\"Rating Count\"].cast(IntegerType()))\n",
        "\n",
        "df=df.withColumn(\"Price\", df[\"Price\"].cast(FloatType()))\n",
        "df=df.withColumn(\"Minimum Installs\", df[\"Minimum Installs\"].cast(IntegerType()))\n",
        "df=df.withColumn(\"Maximum Installs\", df[\"Maximum Installs\"].cast(IntegerType()))\n",
        "\n",
        "\n",
        "\n",
        "df.printSchema()"
      ]
    },
    {
      "cell_type": "code",
      "execution_count": 76,
      "metadata": {},
      "outputs": [
        {
          "name": "stdout",
          "output_type": "stream",
          "text": [
            "+----------------------------------+--------------------+-----------------+------+------------+--------+----------------+----------------+-----+--------+----+---------------+--------------------+--------------------+------------+------------+--------------+------------+----------------+--------------+------------+\n",
            "|                          App Name|              App Id|         Category|Rating|Rating Count|Installs|Minimum Installs|Maximum Installs|Price|Currency|Size|Minimum Android|        Developer Id|     Developer Email|    Released|Last Updated|Content Rating|Ad Supported|In App Purchases|Editors Choice|Scraped Time|\n",
            "+----------------------------------+--------------------+-----------------+------+------------+--------+----------------+----------------+-----+--------+----+---------------+--------------------+--------------------+------------+------------+--------------+------------+----------------+--------------+------------+\n",
            "|                           Gakondo| com.ishakwe.gakondo|        Adventure|   0.0|           0|      10|              10|              15|  0.0|     USD| 10M|     7.1 and up|Jean Confident Ir...|jean21101999@gmai...|Feb 26, 2020|Feb 26, 2020|      Everyone|       False|           False|         False|  2021-06-15|\n",
            "|               Ampere Battery Info|com.webserveis.ba...|            Tools|   4.4|          64|    5000|            5000|            7662|  0.0|     USD|2.9M|     5.0 and up|          Webserveis|webserveis@gmail.com|May 21, 2020|May 06, 2021|      Everyone|        True|           False|         False|  2021-06-15|\n",
            "|                            Vibook|com.doantiepvien.crm|     Productivity|   0.0|           0|      50|              50|              58|  0.0|     USD|3.7M|   4.0.3 and up|          Cabin Crew| vnacrewit@gmail.com| Aug 9, 2019|Aug 19, 2019|      Everyone|       False|           False|         False|  2021-06-15|\n",
            "|              Smart City Trichy...|cst.stJoseph.ug17...|    Communication|   5.0|           5|      10|              10|              19|  0.0|     USD|1.8M|   4.0.3 and up| Climate Smart Tech2|climatesmarttech2...|Sep 10, 2018|Oct 13, 2018|      Everyone|        True|           False|         False|  2021-06-15|\n",
            "|                           GROW.me|com.horodyski.grower|            Tools|   0.0|           0|     100|             100|             478|  0.0|     USD|6.2M|     4.1 and up|Rafal Milek-Horod...|rmilekhorodyski@g...|Feb 21, 2020|Nov 12, 2018|      Everyone|       False|           False|         False|  2021-06-15|\n",
            "|                            IMOCCI|          com.imocci|           Social|   0.0|           0|      50|              50|              89|  0.0|     USD| 46M|     6.0 and up|         Imocci GmbH|     info@imocci.com|Dec 24, 2018|Dec 20, 2019|          Teen|       False|            True|         False|  2021-06-15|\n",
            "|              unlimited 4G data...|getfreedata.super...| Libraries & Demo|   4.5|          12|    1000|            1000|            2567|  0.0|     USD|2.5M|     4.1 and up|android developer779|aitomgharfatimezz...|Sep 23, 2019|Sep 27, 2019|      Everyone|        True|           False|         False|  2021-06-15|\n",
            "|              The Everyday Cale...|com.mozaix.simone...|        Lifestyle|   2.0|          39|     500|             500|             702|  0.0|     USD| 16M|     5.0 and up|          Mozaix LLC|elementuser03@gma...|Jun 21, 2019|Jun 21, 2019|      Everyone|       False|           False|         False|  2021-06-15|\n",
            "|                         WhatsOpen|   com.whatsopen.app|    Communication|   0.0|           0|      10|              10|              18|  0.0|     USD|1.3M|     4.4 and up|Yilver Molina Hur...|yilver.mh1996@gma...|        NULL|Dec 07, 2018|          Teen|       False|           False|         False|  2021-06-15|\n",
            "|              Neon 3d Iron Tech...|com.ikeyboard.the...|  Personalization|   4.7|         820|   50000|           50000|           62433|  0.0|     USD|3.5M|     4.1 and up|Free 2021 Themes ...|trendyteme.888@gm...|Sep 22, 2019|Oct 07, 2020|      Everyone|        True|           False|         False|  2021-06-15|\n",
            "|                   Dodge The Cars!|com.MrScratchEnte...|           Racing|   4.9|          55|     100|             100|             329|  0.0|     USD| 51M|     4.4 and up|           MrScratch|mithalaarush@gmai...|Jul 30, 2020|Jul 30, 2020|      Everyone|       False|           False|         False|  2021-06-15|\n",
            "|                           Parents|com.eqra.android....|Maps & Navigation|   0.0|           0|     100|             100|             330|  0.0|     USD|2.7M|     4.0 and up|           Eqra Tech|hhiyassat@eqratec...|Jan 10, 2018|Jun 27, 2018|      Everyone|       False|           False|         False|  2021-06-15|\n",
            "|桃園機場捷運時刻表 - 捷運轉乘路...|com.jieapp.taoyua...|   Travel & Local|   3.9|         118|   10000|           10000|           37763|  0.0|     USD|7.6M|     4.2 and up|             Jie App| jie.myapp@gmail.com| Apr 3, 2018|Jun 11, 2021|      Everyone|        True|           False|         False|  2021-06-15|\n",
            "|                      be.MOBILISED|com.hastobe.bemob...|Maps & Navigation|   0.0|           0|     100|             100|             274|  0.0|     USD| 15M|     6.0 and up|      has.to.be gmbh|support@has-to-be...| Feb 9, 2020|May 14, 2021|      Everyone|       False|           False|         False|  2021-06-15|\n",
            "|                 Caliway Conductor|com.caliwayconduc...|   Travel & Local|   3.7|        1572|   10000|           10000|           42856|  0.0|     USD| 29M|     4.2 and up|             WayCali|waycalicol@gmail.com| Sep 5, 2018|May 30, 2020|      Everyone|       False|           False|         False|  2021-06-15|\n",
            "|              Readymade Grocery...|com.ionicfirebase...|     Food & Drink|   4.2|          16|    1000|            1000|            4313|  0.0|     USD| 12M|     4.4 and up|     pietechsolution|info@ionicfirebas...| Apr 5, 2020|Mar 23, 2021|      Everyone|       False|           False|         False|  2021-06-15|\n",
            "|              OTENTIK Discovery FR|com.camineo.otent...|   Travel & Local|   3.4|           5|     500|             500|             949|  0.0|     USD|2.9M|     4.4 and up|     Hotels Attitude|info@hotels-attit...|Nov 28, 2016|Oct 30, 2019|      Everyone|       False|           False|         False|  2021-06-15|\n",
            "|              All in one shoppi...|com.tkapplication...|            Tools|   5.0|           6|      50|              50|              62|  0.0|     USD|2.0M|     4.1 and up|     TK Applications|tkapplications001...|Apr 24, 2019|May 05, 2019|      Everyone|       False|           False|         False|  2021-06-15|\n",
            "|                    REDMOND  Robot|    com.grit.redmond|        Lifestyle|   3.7|         328|   10000|           10000|           31235|  0.0|     USD| 70M|     4.1 and up|     Grit Technology|info@redmond.company| Jul 1, 2020|May 26, 2021|      Everyone|       False|           False|         False|  2021-06-15|\n",
            "|              Contemporary Love...|com.felingdev.low...|Books & Reference|   0.0|           0|       1|               1|               2|  0.0|     XXX| 11M|     4.2 and up|    Human Droid Apps|farukabdillah4@gm...|Dec 26, 2020|Mar 23, 2021|        Adults|        True|           False|         False|  2021-06-15|\n",
            "+----------------------------------+--------------------+-----------------+------+------------+--------+----------------+----------------+-----+--------+----+---------------+--------------------+--------------------+------------+------------+--------------+------------+----------------+--------------+------------+\n",
            "only showing top 20 rows\n",
            "\n"
          ]
        }
      ],
      "source": [
        "df = df.withColumn(\"Installs\", regexp_replace(\"Installs\", \"[^0-9]\", \"\").cast(\"int\"))\n",
        "\n",
        "df.show()"
      ]
    },
    {
      "cell_type": "markdown",
      "metadata": {},
      "source": [
        "# EXPLORATORY DATA ANALYSIS"
      ]
    },
    {
      "cell_type": "markdown",
      "metadata": {
        "id": "JuNoOpRqJMEr"
      },
      "source": [
        "## what is the percentage of Rated apps ?"
      ]
    },
    {
      "cell_type": "code",
      "execution_count": 17,
      "metadata": {
        "colab": {
          "base_uri": "https://localhost:8080/"
        },
        "id": "vObPLJtUIHX0",
        "outputId": "4f988178-c137-4d31-91c5-240784c158bb"
      },
      "outputs": [
        {
          "name": "stdout",
          "output_type": "stream",
          "text": [
            "\n",
            "No Rated Apps: 47.31%\n",
            "Rated Apps : 52.69%\n"
          ]
        }
      ],
      "source": [
        "# filter data rating equal 0\n",
        "rate_0 = df.filter(col('Rating') == 0)\n",
        "\n",
        "rate_0_count = rate_0.count()\n",
        "\n",
        "no_imputed = df\n",
        "\n",
        "print(f'\\nNo Rated Apps: {rate_0_count / df.count() * 100 :.2f}%\\nRated Apps : {(1-rate_0_count/ df.count())* 100 :.2f}%')\n",
        "\n",
        "#fiter data rating with out 0\n",
        "df = df.filter(col('Rating') != 0)\n"
      ]
    },
    {
      "cell_type": "markdown",
      "metadata": {
        "id": "w0KdBPK4M0f7"
      },
      "source": [
        "## Top 15 apps in Rating in the Google Store?"
      ]
    },
    {
      "cell_type": "code",
      "execution_count": 77,
      "metadata": {},
      "outputs": [
        {
          "name": "stdout",
          "output_type": "stream",
          "text": [
            "+--------------------+----------+------+------------+-----+\n",
            "|            App Name|  Installs|Rating|Rating Count|Price|\n",
            "+--------------------+----------+------+------------+-----+\n",
            "|     Files by Google|1000000000|   4.6|     4495688|  0.0|\n",
            "|            Messages|1000000000|   4.4|     5305758|  0.0|\n",
            "|Samsung Security ...|1000000000|   4.2|      304658|  0.0|\n",
            "|SHAREit - Transfe...|1000000000|   4.2|    16023749|  0.0|\n",
            "|            Snapchat|1000000000|   4.3|    26340056|  0.0|\n",
            "|    Carrier Services|1000000000|   4.3|      755024|  0.0|\n",
            "|Samsung Voice Rec...|1000000000|   4.3|      162889|  0.0|\n",
            "|Google Play Servi...|1000000000|   4.1|      383330|  0.0|\n",
            "|Spotify: Listen t...|1000000000|   4.4|    22752840|  0.0|\n",
            "|         Device Care|1000000000|   4.3|      360421|  0.0|\n",
            "|Samsung Push Service|1000000000|   4.2|     1160802|  0.0|\n",
            "|      Subway Surfers|1000000000|   4.6|     5304826|  0.0|\n",
            "|       Secure Folder|1000000000|   4.2|      188987|  0.0|\n",
            "|Microsoft PowerPo...|1000000000|   4.3|     1853303|  0.0|\n",
            "|Microsoft Excel: ...|1000000000|   4.4|     3185181|  0.0|\n",
            "+--------------------+----------+------+------------+-----+\n",
            "\n"
          ]
        }
      ],
      "source": [
        "store_df=df.orderBy(col('Installs').desc()).limit(15)\n",
        "\n",
        "store_df.select('App Name','Installs','Rating','Rating Count','Price').show()"
      ]
    },
    {
      "cell_type": "markdown",
      "metadata": {},
      "source": [
        "## The most installed apps"
      ]
    },
    {
      "cell_type": "code",
      "execution_count": 24,
      "metadata": {
        "colab": {
          "base_uri": "https://localhost:8080/"
        },
        "id": "4dmZl6-OLu_d",
        "outputId": "823c63ad-cb82-4549-80db-b9d7de6b1706"
      },
      "outputs": [
        {
          "name": "stdout",
          "output_type": "stream",
          "text": [
            "+--------------------+--------+------------+------+-----+\n",
            "|            App Name|Installs|Rating Count|Rating|Price|\n",
            "+--------------------+--------+------------+------+-----+\n",
            "|             Fazzaco| 10,000+|         156|   5.0|    0|\n",
            "|Gold Rose Live Wa...|  1,000+|         187|   5.0|    0|\n",
            "|        Duo Cylinder|  1,000+|           5|   5.0|    0|\n",
            "|  Colour Paino Tiles|     10+|          16|   5.0|    0|\n",
            "| Inverted Space Ship|     10+|           8|   5.0|    0|\n",
            "|Niagara Falls Wal...|    500+|          11|   5.0|    0|\n",
            "|        POOL CAR APP|     50+|           5|   5.0|    0|\n",
            "|Triple Point Academy|     10+|           5|   5.0|    0|\n",
            "|Philly's Favor 100.7|  1,000+|          10|   5.0|    0|\n",
            "|Smart City Trichy...|     10+|           5|   5.0|    0|\n",
            "|  Football Questions|    100+|          21|   5.0|    0|\n",
            "|Let's Fact? Let's...|     10+|           5|   5.0|    0|\n",
            "|     CliQer Merchant|    100+|           9|   5.0|    0|\n",
            "|           SensorLab|    100+|           6|   5.0|    0|\n",
            "|Beef Recipes in URDU|  1,000+|           7|   5.0|    0|\n",
            "+--------------------+--------+------------+------+-----+\n",
            "\n"
          ]
        }
      ],
      "source": [
        "store_df=df.orderBy(col('Rating').desc()).limit(15)\n",
        "\n",
        "store_df.select('App Name','Installs','Rating','Rating Count','Price').show()"
      ]
    },
    {
      "cell_type": "markdown",
      "metadata": {},
      "source": [
        "## Who are the top developers by the number of apps?"
      ]
    },
    {
      "cell_type": "code",
      "execution_count": 23,
      "metadata": {},
      "outputs": [
        {
          "name": "stdout",
          "output_type": "stream",
          "text": [
            "+--------------------+---------+\n",
            "|        Developer Id|App Count|\n",
            "+--------------------+---------+\n",
            "|       Subsplash Inc|     5422|\n",
            "|          TRAINERIZE|     5153|\n",
            "|             ChowNow|     4865|\n",
            "|           OrderYOYO|     2884|\n",
            "|             Phorest|     2821|\n",
            "|BH App Developmen...|     2453|\n",
            "|          Sharefaith|     2077|\n",
            "|            Flipdish|     1969|\n",
            "|          J&M Studio|     1942|\n",
            "|          CyJ Studio|     1741|\n",
            "|             Apptegy|     1729|\n",
            "|      +HOME by Ateam|     1609|\n",
            "|        Magzter Inc.|     1604|\n",
            "|Branded Apps by M...|     1570|\n",
            "|Currency Converte...|     1520|\n",
            "|             echurch|     1463|\n",
            "|           Skalpelis|     1333|\n",
            "|           TTMA Apps|     1312|\n",
            "|Virtuagym Profess...|     1268|\n",
            "|Branded MINDBODY ...|     1184|\n",
            "+--------------------+---------+\n",
            "only showing top 20 rows\n",
            "\n"
          ]
        }
      ],
      "source": [
        "developer_app_counts = df.groupBy(\"Developer Id\").agg(count(\"*\").alias(\"App Count\")).orderBy(\"App Count\", ascending=False)\n",
        "developer_app_counts.show()"
      ]
    },
    {
      "cell_type": "markdown",
      "metadata": {},
      "source": [
        "## What are the most common app categories?"
      ]
    },
    {
      "cell_type": "code",
      "execution_count": 31,
      "metadata": {},
      "outputs": [
        {
          "name": "stdout",
          "output_type": "stream",
          "text": [
            "+-----------------+---------+\n",
            "|         Category|App Count|\n",
            "+-----------------+---------+\n",
            "|        Education|   241086|\n",
            "|    Music & Audio|   154905|\n",
            "|            Tools|   143987|\n",
            "|         Business|   143770|\n",
            "|    Entertainment|   138271|\n",
            "|        Lifestyle|   118331|\n",
            "|Books & Reference|   116726|\n",
            "|  Personalization|    89210|\n",
            "| Health & Fitness|    83510|\n",
            "|     Productivity|    79695|\n",
            "|         Shopping|    75253|\n",
            "|     Food & Drink|    73926|\n",
            "|   Travel & Local|    67288|\n",
            "|          Finance|    65465|\n",
            "|           Arcade|    53792|\n",
            "|           Puzzle|    51168|\n",
            "|           Casual|    50813|\n",
            "|    Communication|    48167|\n",
            "|           Sports|    47483|\n",
            "|           Social|    44733|\n",
            "+-----------------+---------+\n",
            "only showing top 20 rows\n",
            "\n"
          ]
        }
      ],
      "source": [
        "category_counts = df.groupBy(\"Category\").agg(count(\"*\").alias(\"App Count\"))\n",
        "\n",
        "popular_categories = category_counts.orderBy(\"App Count\", ascending=False)\n",
        "\n",
        "popular_categories.show()"
      ]
    },
    {
      "cell_type": "markdown",
      "metadata": {},
      "source": [
        "## How are installs distributed among different apps?"
      ]
    },
    {
      "cell_type": "code",
      "execution_count": 78,
      "metadata": {},
      "outputs": [
        {
          "name": "stdout",
          "output_type": "stream",
          "text": [
            "+------------+-----------+---------------+-----------+------------+\n",
            "|Min_Installs|Q1_Installs|Median_Installs|Q3_Installs|Max_Installs|\n",
            "+------------+-----------+---------------+-----------+------------+\n",
            "|           0|         50|            500|       5000|  1000000000|\n",
            "+------------+-----------+---------------+-----------+------------+\n",
            "\n"
          ]
        }
      ],
      "source": [
        "install_stats = df.selectExpr(\n",
        "    \"min(Installs) as Min_Installs\",\n",
        "    \"percentile_approx(Installs, 0.25) as Q1_Installs\",\n",
        "    \"percentile_approx(Installs, 0.5) as Median_Installs\",\n",
        "    \"percentile_approx(Installs, 0.75) as Q3_Installs\",\n",
        "    \"max(Installs) as Max_Installs\"\n",
        ")\n",
        "\n",
        "install_stats.show()"
      ]
    },
    {
      "cell_type": "markdown",
      "metadata": {},
      "source": [
        "## How many apps support ads or in-app purchases"
      ]
    },
    {
      "cell_type": "code",
      "execution_count": 79,
      "metadata": {},
      "outputs": [
        {
          "name": "stdout",
          "output_type": "stream",
          "text": [
            "Number of apps that support ads: 1150750\n",
            "Number of apps that have in-app purchases: 195319\n"
          ]
        }
      ],
      "source": [
        "ads_count = df.filter(col(\"Ad Supported\") == \"True\").count()\n",
        "\n",
        "\n",
        "in_app_purchases_count = df.filter(col(\"In App Purchases\") == \"True\").count()\n",
        "\n",
        "print(\"Number of apps that support ads:\", ads_count)\n",
        "print(\"Number of apps that have in-app purchases:\", in_app_purchases_count)"
      ]
    },
    {
      "cell_type": "markdown",
      "metadata": {},
      "source": [
        "## What is the category with the most installs?"
      ]
    },
    {
      "cell_type": "code",
      "execution_count": 92,
      "metadata": {},
      "outputs": [
        {
          "name": "stdout",
          "output_type": "stream",
          "text": [
            "+--------------------+--------------+\n",
            "|            Category|Total Installs|\n",
            "+--------------------+--------------+\n",
            "|               Tools|   46440471469|\n",
            "|        Productivity|   23314050628|\n",
            "|       Communication|   18216594754|\n",
            "|              Action|   17400377388|\n",
            "|       Entertainment|   17108498394|\n",
            "|              Casual|   16837071701|\n",
            "|              Arcade|   14501333037|\n",
            "|       Music & Audio|   14239411974|\n",
            "|         Photography|   13998958963|\n",
            "|              Social|   12165995316|\n",
            "|          Simulation|   11690020565|\n",
            "|              Puzzle|   10796428127|\n",
            "|     Personalization|    9252977243|\n",
            "|              Racing|    9218081047|\n",
            "|Video Players & E...|    8591154209|\n",
            "|              Sports|    7954127503|\n",
            "|            Shopping|    7108602885|\n",
            "|             Finance|    6158488850|\n",
            "|           Lifestyle|    5997923997|\n",
            "|           Education|    5983961831|\n",
            "+--------------------+--------------+\n",
            "only showing top 20 rows\n",
            "\n"
          ]
        }
      ],
      "source": [
        "category_installs = df.groupBy(\"Category\").agg(sum(\"Installs\").alias(\"Total Installs\"))\n",
        "\n",
        "\n",
        "category_installs = category_installs.orderBy(col(\"Total Installs\").desc())\n",
        "\n",
        "\n",
        "category_installs.show()"
      ]
    },
    {
      "cell_type": "markdown",
      "metadata": {},
      "source": [
        "## The most Downloaded Apps Are Free Or Paid?"
      ]
    },
    {
      "cell_type": "code",
      "execution_count": 97,
      "metadata": {},
      "outputs": [
        {
          "name": "stdout",
          "output_type": "stream",
          "text": [
            "+--------------------+------------+----+----------+-----------------+------------------+\n",
            "|            Category|Install Free|Paid|Total Apps|   % Install Free|            % Paid|\n",
            "+--------------------+------------+----+----------+-----------------+------------------+\n",
            "|       Music & Audio|      153381|1524|    154905|99.01617120170427|0.9838287982957297|\n",
            "|           Education|      234539|6547|    241086|97.28437155206025|2.7156284479397392|\n",
            "|              Trivia|       11683| 112|     11795|99.05044510385757|0.9495548961424332|\n",
            "|     Auto & Vehicles|       17998| 282|     18280|98.45733041575492|1.5426695842450766|\n",
            "|       Entertainment|      136889|1382|    138271|99.00051348438936|0.9994865156106486|\n",
            "|           Adventure|       22221| 982|     23203|95.76778864801965|4.2322113519803475|\n",
            "|com.free074a81ba9...|           0|   0|         0|             NULL|              NULL|\n",
            "|              Arcade|       53029| 763|     53792|98.58157346817372|1.4184265318262939|\n",
            "|              Sports|       46132|1351|     47483|97.15477118126488| 2.845228818735126|\n",
            "|      Travel & Local|       65874|1414|     67288|97.89858518606587| 2.101414813934134|\n",
            "|        Food & Drink|       73722| 204|     73926|99.72404837269701|0.2759516273029786|\n",
            "|        Role Playing|        9368| 666|     10034|93.36256727127765| 6.637432728722343|\n",
            "|             Finance|       64906| 559|     65465|99.14610860765295|0.8538913923470557|\n",
            "|     Personalization|       83443|5767|     89210|93.53547808541643| 6.464521914583567|\n",
            "|              Racing|       10221| 140|     10361|98.64877907537883|1.3512209246211755|\n",
            "|               Tools|      139910|4077|    143987|97.16849437796468|2.8315056220353227|\n",
            "|         Educational|       20206|1101|     21307|94.83268409442907|5.1673159055709394|\n",
            "|              Comics|        2806|  56|      2862|98.04332634521313|1.9566736547868624|\n",
            "|              Social|       44508| 225|     44733|99.49701562604788|0.5029843739521158|\n",
            "|    Libraries & Demo|        5126|  72|      5198|98.61485186610236| 1.385148133897653|\n",
            "+--------------------+------------+----+----------+-----------------+------------------+\n",
            "only showing top 20 rows\n",
            "\n"
          ]
        }
      ],
      "source": [
        "category_counts = df.groupBy(\"Category\") \\\n",
        "                    .agg(count(when(col(\"Price\") == \"0\", True)).alias(\"Install Free\"),\n",
        "                         count(when(col(\"Price\") != \"0\", True)).alias(\"Paid\"))\n",
        "\n",
        "category_counts = category_counts.withColumn(\"Total Apps\", col(\"Install Free\") + col(\"Paid\"))\n",
        "\n",
        "\n",
        "category_percentages = category_counts.withColumn(\"% Install Free\", (col(\"Install Free\") / col(\"Total Apps\")) * 100) \\\n",
        "                                      .withColumn(\"% Paid\", (col(\"Paid\") / col(\"Total Apps\")) * 100)\n",
        "\n",
        "\n",
        "category_percentages.show()"
      ]
    },
    {
      "cell_type": "code",
      "execution_count": 96,
      "metadata": {},
      "outputs": [
        {
          "name": "stdout",
          "output_type": "stream",
          "text": [
            "+------------------+----------+----------+----------------+------------------+\n",
            "|Total Install Free|Total Paid|Total Apps|  % Install Free|            % Paid|\n",
            "+------------------+----------+----------+----------------+------------------+\n",
            "|           2267982|     44943|   2312944|98.0560705317552|1.9431080043442468|\n",
            "+------------------+----------+----------+----------------+------------------+\n",
            "\n"
          ]
        }
      ],
      "source": [
        "total_counts = df.agg(count(when(col(\"Price\") == \"0\", True)).alias(\"Total Install Free\"),\n",
        "                      count(when(col(\"Price\") != \"0\", True)).alias(\"Total Paid\"),\n",
        "                      count(lit(1)).alias(\"Total Apps\"))\n",
        "\n",
        "\n",
        "overall_percentages = total_counts.withColumn(\"% Install Free\", (col(\"Total Install Free\") / col(\"Total Apps\")) * 100) \\\n",
        "                                  .withColumn(\"% Paid\", (col(\"Total Paid\") / col(\"Total Apps\")) * 100)\n",
        "\n",
        "\n",
        "overall_percentages.show()"
      ]
    },
    {
      "cell_type": "code",
      "execution_count": null,
      "metadata": {},
      "outputs": [],
      "source": []
    }
  ],
  "metadata": {
    "colab": {
      "provenance": []
    },
    "kernelspec": {
      "display_name": "Python 3",
      "name": "python3"
    },
    "language_info": {
      "codemirror_mode": {
        "name": "ipython",
        "version": 3
      },
      "file_extension": ".py",
      "mimetype": "text/x-python",
      "name": "python",
      "nbconvert_exporter": "python",
      "pygments_lexer": "ipython3",
      "version": "3.11.5"
    }
  },
  "nbformat": 4,
  "nbformat_minor": 0
}
