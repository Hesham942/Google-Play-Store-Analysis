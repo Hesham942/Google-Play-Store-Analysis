{
 "cells": [
  {
   "cell_type": "code",
   "execution_count": 1,
   "id": "8ec1ef5e-5ee4-4359-88c1-fea80f5a23fb",
   "metadata": {},
   "outputs": [],
   "source": [
    "import pandas as pd"
   ]
  },
  {
   "cell_type": "code",
   "execution_count": 2,
   "id": "32fd0dc1-c97e-42cd-b6cb-f69982a862d2",
   "metadata": {},
   "outputs": [],
   "source": [
    "data=pd.read_json('employee_data.json')"
   ]
  },
  {
   "cell_type": "code",
   "execution_count": 3,
   "id": "af981433-0c9f-450d-aced-67ba6bf10687",
   "metadata": {},
   "outputs": [],
   "source": [
    "df=pd.DataFrame(data)"
   ]
  },
  {
   "cell_type": "code",
   "execution_count": 4,
   "id": "71835377-89fc-487b-b329-24bc02ef2984",
   "metadata": {},
   "outputs": [],
   "source": [
    "x=df.explode('features')"
   ]
  },
  {
   "cell_type": "code",
   "execution_count": 5,
   "id": "6bcef182-9e2f-4670-b195-10e36da79df3",
   "metadata": {
    "scrolled": true
   },
   "outputs": [
    {
     "data": {
      "text/html": [
       "<div>\n",
       "<style scoped>\n",
       "    .dataframe tbody tr th:only-of-type {\n",
       "        vertical-align: middle;\n",
       "    }\n",
       "\n",
       "    .dataframe tbody tr th {\n",
       "        vertical-align: top;\n",
       "    }\n",
       "\n",
       "    .dataframe thead th {\n",
       "        text-align: right;\n",
       "    }\n",
       "</style>\n",
       "<table border=\"1\" class=\"dataframe\">\n",
       "  <thead>\n",
       "    <tr style=\"text-align: right;\">\n",
       "      <th></th>\n",
       "      <th>features</th>\n",
       "    </tr>\n",
       "  </thead>\n",
       "  <tbody>\n",
       "    <tr>\n",
       "      <th>0</th>\n",
       "      <td>candidate</td>\n",
       "    </tr>\n",
       "    <tr>\n",
       "      <th>1</th>\n",
       "      <td>candidate</td>\n",
       "    </tr>\n",
       "    <tr>\n",
       "      <th>2</th>\n",
       "      <td>candidate</td>\n",
       "    </tr>\n",
       "    <tr>\n",
       "      <th>3</th>\n",
       "      <td>candidate</td>\n",
       "    </tr>\n",
       "    <tr>\n",
       "      <th>4</th>\n",
       "      <td>candidate</td>\n",
       "    </tr>\n",
       "    <tr>\n",
       "      <th>...</th>\n",
       "      <td>...</td>\n",
       "    </tr>\n",
       "    <tr>\n",
       "      <th>495</th>\n",
       "      <td>candidate</td>\n",
       "    </tr>\n",
       "    <tr>\n",
       "      <th>496</th>\n",
       "      <td>candidate</td>\n",
       "    </tr>\n",
       "    <tr>\n",
       "      <th>497</th>\n",
       "      <td>candidate</td>\n",
       "    </tr>\n",
       "    <tr>\n",
       "      <th>498</th>\n",
       "      <td>candidate</td>\n",
       "    </tr>\n",
       "    <tr>\n",
       "      <th>499</th>\n",
       "      <td>candidate</td>\n",
       "    </tr>\n",
       "  </tbody>\n",
       "</table>\n",
       "<p>500 rows × 1 columns</p>\n",
       "</div>"
      ],
      "text/plain": [
       "      features\n",
       "0    candidate\n",
       "1    candidate\n",
       "2    candidate\n",
       "3    candidate\n",
       "4    candidate\n",
       "..         ...\n",
       "495  candidate\n",
       "496  candidate\n",
       "497  candidate\n",
       "498  candidate\n",
       "499  candidate\n",
       "\n",
       "[500 rows x 1 columns]"
      ]
     },
     "execution_count": 5,
     "metadata": {},
     "output_type": "execute_result"
    }
   ],
   "source": [
    "x"
   ]
  },
  {
   "cell_type": "code",
   "execution_count": 55,
   "id": "bfb0cad9-f421-4064-9c27-213925399900",
   "metadata": {},
   "outputs": [
    {
     "name": "stdout",
     "output_type": "stream",
     "text": [
      "    first_name   Last_Name                                             skills  \\\n",
      "0     Margaret    Mcdonald                [skLearn, Java, R, SQL, Spark, C++]   \n",
      "1      Michael      Carter          [TensorFlow, R, Spark, MongoDB, C++, SQL]   \n",
      "2       Brenda       Tyler                                            [Spark]   \n",
      "3       Joseph        King  [skLearn, SQL, R, Spark, Java, C++, Python, Te...   \n",
      "4        Laura        Webb           [TensorFlow, C++, SQL, Java, R, MongoDB]   \n",
      "..         ...         ...                                                ...   \n",
      "495     Robert       Baker                        [skLearn, Spark, C++, Java]   \n",
      "496      Lucas       Brock                                              [C++]   \n",
      "497   Kimberly  Richardson                                     [Python, Java]   \n",
      "498      Karla     Salazar                   [MongoDB, Python, Java, skLearn]   \n",
      "499       Mrs.       Debra  [skLearn, R, MongoDB, Spark, TensorFlow, Java,...   \n",
      "\n",
      "    state           specialty experience relocation  \n",
      "0      AL            Database        Mid         no  \n",
      "1      AR          Statistics     Senior        yes  \n",
      "2      UT            Database        Mid         no  \n",
      "3      FL    Machine Learning     Senior      maybe  \n",
      "4      WY    Machine Learning     Junior      maybe  \n",
      "..    ...                 ...        ...        ...  \n",
      "495    WA    Machine Learning        Mid        yes  \n",
      "496    AR    Machine Learning     Junior         no  \n",
      "497    IA    Machine Learning     Junior      maybe  \n",
      "498    NE  Data Visualization     Senior        yes  \n",
      "499    TX          Statistics     Senior         no  \n",
      "\n",
      "[500 rows x 7 columns]\n"
     ]
    }
   ],
   "source": [
    "import pandas as pd\n",
    "import json\n",
    "\n",
    "with open('employee_data.json') as f:\n",
    "    data = json.load(f)\n",
    "\n",
    "# Use pd.json_normalize to convert the JSON to a DataFrame\n",
    "df = pd.json_normalize(data['features'], \n",
    "                     meta=[['candidate','first_name'], ['candidate','last_name'],['candidate','skills'],['candidate','state'],['candidate','specialty'],['candidate','experience'],['candidate','relocation']])\n",
    "\n",
    "# Rename the columns for clarity\n",
    "df.columns = ['first_name', 'Last_Name', 'skills', 'state', 'specialty','experience','relocation']\n",
    "\n",
    "# Display the DataFrame\n",
    "print(df)"
   ]
  },
  {
   "cell_type": "code",
   "execution_count": 56,
   "id": "ccb46f48-4c11-4764-953a-0979ac2a6145",
   "metadata": {},
   "outputs": [
    {
     "data": {
      "text/html": [
       "<div>\n",
       "<style scoped>\n",
       "    .dataframe tbody tr th:only-of-type {\n",
       "        vertical-align: middle;\n",
       "    }\n",
       "\n",
       "    .dataframe tbody tr th {\n",
       "        vertical-align: top;\n",
       "    }\n",
       "\n",
       "    .dataframe thead th {\n",
       "        text-align: right;\n",
       "    }\n",
       "</style>\n",
       "<table border=\"1\" class=\"dataframe\">\n",
       "  <thead>\n",
       "    <tr style=\"text-align: right;\">\n",
       "      <th></th>\n",
       "      <th>first_name</th>\n",
       "      <th>Last_Name</th>\n",
       "      <th>skills</th>\n",
       "      <th>state</th>\n",
       "      <th>specialty</th>\n",
       "      <th>experience</th>\n",
       "      <th>relocation</th>\n",
       "    </tr>\n",
       "  </thead>\n",
       "  <tbody>\n",
       "    <tr>\n",
       "      <th>0</th>\n",
       "      <td>Margaret</td>\n",
       "      <td>Mcdonald</td>\n",
       "      <td>[skLearn, Java, R, SQL, Spark, C++]</td>\n",
       "      <td>AL</td>\n",
       "      <td>Database</td>\n",
       "      <td>Mid</td>\n",
       "      <td>no</td>\n",
       "    </tr>\n",
       "    <tr>\n",
       "      <th>1</th>\n",
       "      <td>Michael</td>\n",
       "      <td>Carter</td>\n",
       "      <td>[TensorFlow, R, Spark, MongoDB, C++, SQL]</td>\n",
       "      <td>AR</td>\n",
       "      <td>Statistics</td>\n",
       "      <td>Senior</td>\n",
       "      <td>yes</td>\n",
       "    </tr>\n",
       "    <tr>\n",
       "      <th>2</th>\n",
       "      <td>Brenda</td>\n",
       "      <td>Tyler</td>\n",
       "      <td>[Spark]</td>\n",
       "      <td>UT</td>\n",
       "      <td>Database</td>\n",
       "      <td>Mid</td>\n",
       "      <td>no</td>\n",
       "    </tr>\n",
       "    <tr>\n",
       "      <th>3</th>\n",
       "      <td>Joseph</td>\n",
       "      <td>King</td>\n",
       "      <td>[skLearn, SQL, R, Spark, Java, C++, Python, Te...</td>\n",
       "      <td>FL</td>\n",
       "      <td>Machine Learning</td>\n",
       "      <td>Senior</td>\n",
       "      <td>maybe</td>\n",
       "    </tr>\n",
       "    <tr>\n",
       "      <th>4</th>\n",
       "      <td>Laura</td>\n",
       "      <td>Webb</td>\n",
       "      <td>[TensorFlow, C++, SQL, Java, R, MongoDB]</td>\n",
       "      <td>WY</td>\n",
       "      <td>Machine Learning</td>\n",
       "      <td>Junior</td>\n",
       "      <td>maybe</td>\n",
       "    </tr>\n",
       "    <tr>\n",
       "      <th>...</th>\n",
       "      <td>...</td>\n",
       "      <td>...</td>\n",
       "      <td>...</td>\n",
       "      <td>...</td>\n",
       "      <td>...</td>\n",
       "      <td>...</td>\n",
       "      <td>...</td>\n",
       "    </tr>\n",
       "    <tr>\n",
       "      <th>495</th>\n",
       "      <td>Robert</td>\n",
       "      <td>Baker</td>\n",
       "      <td>[skLearn, Spark, C++, Java]</td>\n",
       "      <td>WA</td>\n",
       "      <td>Machine Learning</td>\n",
       "      <td>Mid</td>\n",
       "      <td>yes</td>\n",
       "    </tr>\n",
       "    <tr>\n",
       "      <th>496</th>\n",
       "      <td>Lucas</td>\n",
       "      <td>Brock</td>\n",
       "      <td>[C++]</td>\n",
       "      <td>AR</td>\n",
       "      <td>Machine Learning</td>\n",
       "      <td>Junior</td>\n",
       "      <td>no</td>\n",
       "    </tr>\n",
       "    <tr>\n",
       "      <th>497</th>\n",
       "      <td>Kimberly</td>\n",
       "      <td>Richardson</td>\n",
       "      <td>[Python, Java]</td>\n",
       "      <td>IA</td>\n",
       "      <td>Machine Learning</td>\n",
       "      <td>Junior</td>\n",
       "      <td>maybe</td>\n",
       "    </tr>\n",
       "    <tr>\n",
       "      <th>498</th>\n",
       "      <td>Karla</td>\n",
       "      <td>Salazar</td>\n",
       "      <td>[MongoDB, Python, Java, skLearn]</td>\n",
       "      <td>NE</td>\n",
       "      <td>Data Visualization</td>\n",
       "      <td>Senior</td>\n",
       "      <td>yes</td>\n",
       "    </tr>\n",
       "    <tr>\n",
       "      <th>499</th>\n",
       "      <td>Mrs.</td>\n",
       "      <td>Debra</td>\n",
       "      <td>[skLearn, R, MongoDB, Spark, TensorFlow, Java,...</td>\n",
       "      <td>TX</td>\n",
       "      <td>Statistics</td>\n",
       "      <td>Senior</td>\n",
       "      <td>no</td>\n",
       "    </tr>\n",
       "  </tbody>\n",
       "</table>\n",
       "<p>500 rows × 7 columns</p>\n",
       "</div>"
      ],
      "text/plain": [
       "    first_name   Last_Name                                             skills  \\\n",
       "0     Margaret    Mcdonald                [skLearn, Java, R, SQL, Spark, C++]   \n",
       "1      Michael      Carter          [TensorFlow, R, Spark, MongoDB, C++, SQL]   \n",
       "2       Brenda       Tyler                                            [Spark]   \n",
       "3       Joseph        King  [skLearn, SQL, R, Spark, Java, C++, Python, Te...   \n",
       "4        Laura        Webb           [TensorFlow, C++, SQL, Java, R, MongoDB]   \n",
       "..         ...         ...                                                ...   \n",
       "495     Robert       Baker                        [skLearn, Spark, C++, Java]   \n",
       "496      Lucas       Brock                                              [C++]   \n",
       "497   Kimberly  Richardson                                     [Python, Java]   \n",
       "498      Karla     Salazar                   [MongoDB, Python, Java, skLearn]   \n",
       "499       Mrs.       Debra  [skLearn, R, MongoDB, Spark, TensorFlow, Java,...   \n",
       "\n",
       "    state           specialty experience relocation  \n",
       "0      AL            Database        Mid         no  \n",
       "1      AR          Statistics     Senior        yes  \n",
       "2      UT            Database        Mid         no  \n",
       "3      FL    Machine Learning     Senior      maybe  \n",
       "4      WY    Machine Learning     Junior      maybe  \n",
       "..    ...                 ...        ...        ...  \n",
       "495    WA    Machine Learning        Mid        yes  \n",
       "496    AR    Machine Learning     Junior         no  \n",
       "497    IA    Machine Learning     Junior      maybe  \n",
       "498    NE  Data Visualization     Senior        yes  \n",
       "499    TX          Statistics     Senior         no  \n",
       "\n",
       "[500 rows x 7 columns]"
      ]
     },
     "execution_count": 56,
     "metadata": {},
     "output_type": "execute_result"
    }
   ],
   "source": [
    "df"
   ]
  },
  {
   "cell_type": "code",
   "execution_count": 47,
   "id": "e653c3a7-30d4-45b8-bd62-821f0db45a92",
   "metadata": {},
   "outputs": [],
   "source": [
    "df=df.to_csv('emmmp2.csv',index=False)"
   ]
  },
  {
   "cell_type": "code",
   "execution_count": 27,
   "id": "b9ae3e4d-0760-4688-b5b1-294d8385d58e",
   "metadata": {},
   "outputs": [],
   "source": [
    "z=df.explode('skills')"
   ]
  },
  {
   "cell_type": "code",
   "execution_count": 28,
   "id": "81ab8355-97f8-49e1-9261-f40df5b0fcc7",
   "metadata": {},
   "outputs": [],
   "source": [
    "z.to_csv('repeated.csv')"
   ]
  },
  {
   "cell_type": "code",
   "execution_count": 48,
   "id": "63f8042a-92c1-4b8e-a2bc-306165551fe0",
   "metadata": {},
   "outputs": [],
   "source": [
    "df"
   ]
  },
  {
   "cell_type": "code",
   "execution_count": 42,
   "id": "63575a76-4985-4e7d-affc-7aaed9826016",
   "metadata": {},
   "outputs": [
    {
     "data": {
      "text/html": [
       "<div>\n",
       "<style scoped>\n",
       "    .dataframe tbody tr th:only-of-type {\n",
       "        vertical-align: middle;\n",
       "    }\n",
       "\n",
       "    .dataframe tbody tr th {\n",
       "        vertical-align: top;\n",
       "    }\n",
       "\n",
       "    .dataframe thead th {\n",
       "        text-align: right;\n",
       "    }\n",
       "</style>\n",
       "<table border=\"1\" class=\"dataframe\">\n",
       "  <thead>\n",
       "    <tr style=\"text-align: right;\">\n",
       "      <th></th>\n",
       "      <th>first_name</th>\n",
       "      <th>Last_Name</th>\n",
       "      <th>skills</th>\n",
       "      <th>state</th>\n",
       "      <th>specialty</th>\n",
       "      <th>experience</th>\n",
       "      <th>relocation</th>\n",
       "    </tr>\n",
       "  </thead>\n",
       "  <tbody>\n",
       "    <tr>\n",
       "      <th>0</th>\n",
       "      <td>Margaret</td>\n",
       "      <td>Mcdonald</td>\n",
       "      <td>[skLearn, Java, R, SQL, Spark, C++]</td>\n",
       "      <td>AL</td>\n",
       "      <td>Database</td>\n",
       "      <td>Mid</td>\n",
       "      <td>no</td>\n",
       "    </tr>\n",
       "    <tr>\n",
       "      <th>1</th>\n",
       "      <td>Michael</td>\n",
       "      <td>Carter</td>\n",
       "      <td>[TensorFlow, R, Spark, MongoDB, C++, SQL]</td>\n",
       "      <td>AR</td>\n",
       "      <td>Statistics</td>\n",
       "      <td>Senior</td>\n",
       "      <td>yes</td>\n",
       "    </tr>\n",
       "    <tr>\n",
       "      <th>2</th>\n",
       "      <td>Brenda</td>\n",
       "      <td>Tyler</td>\n",
       "      <td>[Spark]</td>\n",
       "      <td>UT</td>\n",
       "      <td>Database</td>\n",
       "      <td>Mid</td>\n",
       "      <td>no</td>\n",
       "    </tr>\n",
       "    <tr>\n",
       "      <th>3</th>\n",
       "      <td>Joseph</td>\n",
       "      <td>King</td>\n",
       "      <td>[skLearn, SQL, R, Spark, Java, C++, Python, Te...</td>\n",
       "      <td>FL</td>\n",
       "      <td>Machine Learning</td>\n",
       "      <td>Senior</td>\n",
       "      <td>maybe</td>\n",
       "    </tr>\n",
       "    <tr>\n",
       "      <th>4</th>\n",
       "      <td>Laura</td>\n",
       "      <td>Webb</td>\n",
       "      <td>[TensorFlow, C++, SQL, Java, R, MongoDB]</td>\n",
       "      <td>WY</td>\n",
       "      <td>Machine Learning</td>\n",
       "      <td>Junior</td>\n",
       "      <td>maybe</td>\n",
       "    </tr>\n",
       "    <tr>\n",
       "      <th>...</th>\n",
       "      <td>...</td>\n",
       "      <td>...</td>\n",
       "      <td>...</td>\n",
       "      <td>...</td>\n",
       "      <td>...</td>\n",
       "      <td>...</td>\n",
       "      <td>...</td>\n",
       "    </tr>\n",
       "    <tr>\n",
       "      <th>495</th>\n",
       "      <td>Robert</td>\n",
       "      <td>Baker</td>\n",
       "      <td>[skLearn, Spark, C++, Java]</td>\n",
       "      <td>WA</td>\n",
       "      <td>Machine Learning</td>\n",
       "      <td>Mid</td>\n",
       "      <td>yes</td>\n",
       "    </tr>\n",
       "    <tr>\n",
       "      <th>496</th>\n",
       "      <td>Lucas</td>\n",
       "      <td>Brock</td>\n",
       "      <td>[C++]</td>\n",
       "      <td>AR</td>\n",
       "      <td>Machine Learning</td>\n",
       "      <td>Junior</td>\n",
       "      <td>no</td>\n",
       "    </tr>\n",
       "    <tr>\n",
       "      <th>497</th>\n",
       "      <td>Kimberly</td>\n",
       "      <td>Richardson</td>\n",
       "      <td>[Python, Java]</td>\n",
       "      <td>IA</td>\n",
       "      <td>Machine Learning</td>\n",
       "      <td>Junior</td>\n",
       "      <td>maybe</td>\n",
       "    </tr>\n",
       "    <tr>\n",
       "      <th>498</th>\n",
       "      <td>Karla</td>\n",
       "      <td>Salazar</td>\n",
       "      <td>[MongoDB, Python, Java, skLearn]</td>\n",
       "      <td>NE</td>\n",
       "      <td>Data Visualization</td>\n",
       "      <td>Senior</td>\n",
       "      <td>yes</td>\n",
       "    </tr>\n",
       "    <tr>\n",
       "      <th>499</th>\n",
       "      <td>Mrs.</td>\n",
       "      <td>Debra</td>\n",
       "      <td>[skLearn, R, MongoDB, Spark, TensorFlow, Java,...</td>\n",
       "      <td>TX</td>\n",
       "      <td>Statistics</td>\n",
       "      <td>Senior</td>\n",
       "      <td>no</td>\n",
       "    </tr>\n",
       "  </tbody>\n",
       "</table>\n",
       "<p>500 rows × 7 columns</p>\n",
       "</div>"
      ],
      "text/plain": [
       "    first_name   Last_Name                                             skills  \\\n",
       "0     Margaret    Mcdonald                [skLearn, Java, R, SQL, Spark, C++]   \n",
       "1      Michael      Carter          [TensorFlow, R, Spark, MongoDB, C++, SQL]   \n",
       "2       Brenda       Tyler                                            [Spark]   \n",
       "3       Joseph        King  [skLearn, SQL, R, Spark, Java, C++, Python, Te...   \n",
       "4        Laura        Webb           [TensorFlow, C++, SQL, Java, R, MongoDB]   \n",
       "..         ...         ...                                                ...   \n",
       "495     Robert       Baker                        [skLearn, Spark, C++, Java]   \n",
       "496      Lucas       Brock                                              [C++]   \n",
       "497   Kimberly  Richardson                                     [Python, Java]   \n",
       "498      Karla     Salazar                   [MongoDB, Python, Java, skLearn]   \n",
       "499       Mrs.       Debra  [skLearn, R, MongoDB, Spark, TensorFlow, Java,...   \n",
       "\n",
       "    state           specialty experience relocation  \n",
       "0      AL            Database        Mid         no  \n",
       "1      AR          Statistics     Senior        yes  \n",
       "2      UT            Database        Mid         no  \n",
       "3      FL    Machine Learning     Senior      maybe  \n",
       "4      WY    Machine Learning     Junior      maybe  \n",
       "..    ...                 ...        ...        ...  \n",
       "495    WA    Machine Learning        Mid        yes  \n",
       "496    AR    Machine Learning     Junior         no  \n",
       "497    IA    Machine Learning     Junior      maybe  \n",
       "498    NE  Data Visualization     Senior        yes  \n",
       "499    TX          Statistics     Senior         no  \n",
       "\n",
       "[500 rows x 7 columns]"
      ]
     },
     "execution_count": 42,
     "metadata": {},
     "output_type": "execute_result"
    }
   ],
   "source": [
    "df"
   ]
  },
  {
   "cell_type": "code",
   "execution_count": 43,
   "id": "abe0463f-a585-4eb0-863d-9fea731b5449",
   "metadata": {},
   "outputs": [],
   "source": [
    "df.to_csv('index.csv')"
   ]
  },
  {
   "cell_type": "code",
   "execution_count": 49,
   "id": "e0991662-9ba3-4c95-b881-2d1320dd4cfc",
   "metadata": {},
   "outputs": [],
   "source": [
    "import psycopg2"
   ]
  },
  {
   "cell_type": "code",
   "execution_count": 69,
   "id": "e543b91b-9f43-4894-afd6-daaf36673ded",
   "metadata": {},
   "outputs": [],
   "source": [
    "def connect():\n",
    "    try:\n",
    "        conn = psycopg2.connect(\n",
    "            dbname=\"postgres\",\n",
    "            user=\"postgres\",\n",
    "            password=\"root\",\n",
    "            host=\"127.0.0.1\",\n",
    "            port=\"5432\"\n",
    "        )\n",
    "        return conn\n",
    "    except psycopg2.Error as e:\n",
    "        print(\"Unable to connect to the database.\")\n",
    "        print(e)\n",
    "        return None\n",
    "\n",
    "# Function to create table\n",
    "def create_table(conn):\n",
    "    try:\n",
    "        cur = conn.cursor()\n",
    "        cur.execute(\"\"\"\n",
    "            CREATE TABLE IF NOT EXISTS employee_data (\n",
    "                first_name TEXT,\n",
    "                last_name TEXT,\n",
    "                skills TEXT[],\n",
    "                state TEXT,\n",
    "                specialty TEXT,\n",
    "                experience TEXT,\n",
    "                relocation TEXT\n",
    "            );\n",
    "        \"\"\")\n",
    "        conn.commit()\n",
    "        cur.close()\n",
    "    except psycopg2.Error as e:\n",
    "        print(\"Error creating table.\")\n",
    "        print(e)\n",
    "\n",
    "# Function to insert data\n",
    "def insert_data(conn, data):\n",
    "    try:\n",
    "        cur = conn.cursor()\n",
    "        # Format skills as an array\n",
    "        skills_arr = \"{\" + \", \".join([\"'{}'\".format(skill) for skill in data[2]]) + \"}\"\n",
    "        # Insert data into the table\n",
    "        cur.execute(\"\"\"\n",
    "            INSERT INTO employee_data (\n",
    "                first_name,\n",
    "                last_name,\n",
    "                skills,\n",
    "                state,\n",
    "                specialty,\n",
    "                experience,\n",
    "                relocation\n",
    "            ) VALUES (%s, %s, %s, %s, %s, %s, %s);\n",
    "        \"\"\", (data[0], data[1], skills_arr, data[3], data[4], data[5], data[6]))\n",
    "        conn.commit()\n",
    "        cur.close()\n",
    "    except psycopg2.Error as e:\n",
    "        print(\"Error inserting data.\")\n",
    "        print(e)\n",
    "\n",
    "# Main function\n",
    "def main():\n",
    "    # Connect to PostgreSQL\n",
    "    conn = connect()\n",
    "    if conn is None:\n",
    "        return\n",
    "    \n",
    "    # Create table\n",
    "    create_table(conn)\n",
    "\n",
    "    # Example data (assuming df is your DataFrame)\n",
    "      # Replace \"your_data.csv\" with the path to your CSV file\n",
    "    for index, row in df.iterrows():\n",
    "        data = (row['first_name'], row['Last_Name'], row['skills'], row['state'], row['specialty'], row['experience'], row['relocation'])\n",
    "\n",
    "        insert_data(conn, data)\n",
    "\n",
    "    # Close connection\n",
    "    conn.close()\n",
    "\n",
    "if __name__ == \"__main__\":\n",
    "    main()"
   ]
  },
  {
   "cell_type": "code",
   "execution_count": 53,
   "id": "79e67d90-1d57-407f-9fa3-240e9ba4c7ae",
   "metadata": {},
   "outputs": [],
   "source": [
    "df"
   ]
  },
  {
   "cell_type": "code",
   "execution_count": 62,
   "id": "9e4cf507-0e27-4798-b0dc-7427fa309305",
   "metadata": {},
   "outputs": [
    {
     "data": {
      "text/plain": [
       "Index(['first_name', 'Last_Name', 'skills', 'state', 'specialty', 'experience',\n",
       "       'relocation'],\n",
       "      dtype='object')"
      ]
     },
     "execution_count": 62,
     "metadata": {},
     "output_type": "execute_result"
    }
   ],
   "source": [
    "df.columns"
   ]
  },
  {
   "cell_type": "code",
   "execution_count": 65,
   "id": "c6035618-6299-4b7d-a5bd-e1e5c1324b9b",
   "metadata": {
    "scrolled": true
   },
   "outputs": [
    {
     "data": {
      "text/plain": [
       "<bound method NDFrame.sample of     first_name   Last_Name                                             skills  \\\n",
       "0     Margaret    Mcdonald                [skLearn, Java, R, SQL, Spark, C++]   \n",
       "1      Michael      Carter          [TensorFlow, R, Spark, MongoDB, C++, SQL]   \n",
       "2       Brenda       Tyler                                            [Spark]   \n",
       "3       Joseph        King  [skLearn, SQL, R, Spark, Java, C++, Python, Te...   \n",
       "4        Laura        Webb           [TensorFlow, C++, SQL, Java, R, MongoDB]   \n",
       "..         ...         ...                                                ...   \n",
       "495     Robert       Baker                        [skLearn, Spark, C++, Java]   \n",
       "496      Lucas       Brock                                              [C++]   \n",
       "497   Kimberly  Richardson                                     [Python, Java]   \n",
       "498      Karla     Salazar                   [MongoDB, Python, Java, skLearn]   \n",
       "499       Mrs.       Debra  [skLearn, R, MongoDB, Spark, TensorFlow, Java,...   \n",
       "\n",
       "    state           specialty experience relocation  \n",
       "0      AL            Database        Mid         no  \n",
       "1      AR          Statistics     Senior        yes  \n",
       "2      UT            Database        Mid         no  \n",
       "3      FL    Machine Learning     Senior      maybe  \n",
       "4      WY    Machine Learning     Junior      maybe  \n",
       "..    ...                 ...        ...        ...  \n",
       "495    WA    Machine Learning        Mid        yes  \n",
       "496    AR    Machine Learning     Junior         no  \n",
       "497    IA    Machine Learning     Junior      maybe  \n",
       "498    NE  Data Visualization     Senior        yes  \n",
       "499    TX          Statistics     Senior         no  \n",
       "\n",
       "[500 rows x 7 columns]>"
      ]
     },
     "execution_count": 65,
     "metadata": {},
     "output_type": "execute_result"
    }
   ],
   "source": [
    "df.sample"
   ]
  },
  {
   "cell_type": "code",
   "execution_count": null,
   "id": "a129841f-0401-436b-b609-8c6530545b8f",
   "metadata": {},
   "outputs": [],
   "source": []
  },
  {
   "cell_type": "code",
   "execution_count": null,
   "id": "45f0b1f0-91de-4f2e-9be5-ac953995b61a",
   "metadata": {},
   "outputs": [],
   "source": []
  },
  {
   "cell_type": "code",
   "execution_count": null,
   "id": "eed3c49c-1cfa-4f0f-888a-4199bf35b59d",
   "metadata": {},
   "outputs": [],
   "source": []
  },
  {
   "cell_type": "code",
   "execution_count": 2,
   "id": "e2e1da50-5d6d-4326-862e-6840b5458a08",
   "metadata": {},
   "outputs": [],
   "source": [
    "from pyspark.sql import SparkSession\n",
    "from pyspark.sql.functions import explode"
   ]
  },
  {
   "cell_type": "code",
   "execution_count": 2,
   "id": "ec55f8c8-8e8a-472d-90e6-74d098d217f7",
   "metadata": {},
   "outputs": [],
   "source": [
    "data={\n",
    "  \"name\": \"John\",\n",
    "  \"age\": 30,\n",
    "  \"cars\": [\n",
    "    {\"car1\": \"Ford\", \"model\": \"Mustang\"},\n",
    "    {\"car2\": \"BMW\", \"model\": \"X5\"}\n",
    "  ]\n",
    "}"
   ]
  },
  {
   "cell_type": "code",
   "execution_count": 3,
   "id": "e3a5fc64-a343-4b10-ad96-4b8ea2e7c570",
   "metadata": {},
   "outputs": [],
   "source": [
    "spark = SparkSession.builder.appName('nestedJSON').getOrCreate()"
   ]
  },
  {
   "cell_type": "code",
   "execution_count": 6,
   "id": "b8cc09ac-f6e8-4d74-a859-d8d987bc93c7",
   "metadata": {},
   "outputs": [],
   "source": [
    "df = spark.read.json('employee_data.json')"
   ]
  },
  {
   "cell_type": "code",
   "execution_count": 8,
   "id": "915c5509-db21-484a-9d30-3c82c55c7e2d",
   "metadata": {},
   "outputs": [
    {
     "name": "stdout",
     "output_type": "stream",
     "text": [
      "root\n",
      " |-- features: array (nullable = true)\n",
      " |    |-- element: struct (containsNull = true)\n",
      " |    |    |-- candidate: struct (nullable = true)\n",
      " |    |    |    |-- experience: string (nullable = true)\n",
      " |    |    |    |-- first_name: string (nullable = true)\n",
      " |    |    |    |-- last_name: string (nullable = true)\n",
      " |    |    |    |-- relocation: string (nullable = true)\n",
      " |    |    |    |-- skills: array (nullable = true)\n",
      " |    |    |    |    |-- element: string (containsNull = true)\n",
      " |    |    |    |-- specialty: string (nullable = true)\n",
      " |    |    |    |-- state: string (nullable = true)\n",
      "\n"
     ]
    }
   ],
   "source": [
    "df.printSchema()"
   ]
  },
  {
   "cell_type": "code",
   "execution_count": 9,
   "id": "5e0b9ceb-cd92-4183-8485-f1c06904b1f7",
   "metadata": {},
   "outputs": [
    {
     "name": "stdout",
     "output_type": "stream",
     "text": [
      "+--------------------+\n",
      "|           candidate|\n",
      "+--------------------+\n",
      "|{Mid, Margaret, M...|\n",
      "|{Senior, Michael,...|\n",
      "|{Mid, Brenda, Tyl...|\n",
      "|{Senior, Joseph, ...|\n",
      "|{Junior, Laura, W...|\n",
      "|{Mid, Cheryl, Ram...|\n",
      "|{Mid, Charles, St...|\n",
      "|{Senior, Bradley,...|\n",
      "|{Mid, William, Li...|\n",
      "|{Senior, Richard,...|\n",
      "|{Junior, Robert, ...|\n",
      "|{Mid, Tanya, Schu...|\n",
      "|{Senior, Scott, N...|\n",
      "|{Junior, Brett, H...|\n",
      "|{Junior, Sean, Wi...|\n",
      "|{Senior, Steven, ...|\n",
      "|{Mid, Mr., James,...|\n",
      "|{Junior, Linda, G...|\n",
      "|{Junior, Jacob, E...|\n",
      "|{Mid, Nicole, Mar...|\n",
      "+--------------------+\n",
      "only showing top 20 rows\n",
      "\n"
     ]
    }
   ],
   "source": [
    "df_flat = df.select(explode('features').alias('Elements'))\n",
    "df_flat = df_flat.select('Elements.candidate')\n",
    "\n",
    "df_flat.show()"
   ]
  },
  {
   "cell_type": "code",
   "execution_count": 10,
   "id": "b8202e5d-cbbe-46cf-a0c8-884e735177fc",
   "metadata": {},
   "outputs": [
    {
     "name": "stdout",
     "output_type": "stream",
     "text": [
      "root\n",
      " |-- candidate: struct (nullable = true)\n",
      " |    |-- experience: string (nullable = true)\n",
      " |    |-- first_name: string (nullable = true)\n",
      " |    |-- last_name: string (nullable = true)\n",
      " |    |-- relocation: string (nullable = true)\n",
      " |    |-- skills: array (nullable = true)\n",
      " |    |    |-- element: string (containsNull = true)\n",
      " |    |-- specialty: string (nullable = true)\n",
      " |    |-- state: string (nullable = true)\n",
      "\n"
     ]
    }
   ],
   "source": [
    "df_flat.printSchema()"
   ]
  },
  {
   "cell_type": "code",
   "execution_count": 15,
   "id": "f22a5dc3-4ec8-4215-ae3f-a02b9d1d07e5",
   "metadata": {},
   "outputs": [
    {
     "name": "stdout",
     "output_type": "stream",
     "text": [
      "+----------+---------+----------+----------+------------------+--------------------+-----+\n",
      "|first_name|last_name|experience|relocation|         specialty|              skills|state|\n",
      "+----------+---------+----------+----------+------------------+--------------------+-----+\n",
      "|  Margaret| Mcdonald|       Mid|        no|          Database|[skLearn, Java, R...|   AL|\n",
      "|   Michael|   Carter|    Senior|       yes|        Statistics|[TensorFlow, R, S...|   AR|\n",
      "|    Brenda|    Tyler|       Mid|        no|          Database|             [Spark]|   UT|\n",
      "|    Joseph|     King|    Senior|     maybe|  Machine Learning|[skLearn, SQL, R,...|   FL|\n",
      "|     Laura|     Webb|    Junior|     maybe|  Machine Learning|[TensorFlow, C++,...|   WY|\n",
      "|    Cheryl|  Ramirez|       Mid|        no|Data Visualization|[C++, Python, R, ...|   OK|\n",
      "|   Charles|  Stewart|       Mid|     maybe|  Machine Learning|[MongoDB, C++, Ja...|   NM|\n",
      "|   Bradley| Peterson|    Senior|       yes|Data Visualization|[skLearn, MongoDB...|   TX|\n",
      "|   William|      Lin|       Mid|     maybe|  Machine Learning|[Python, skLearn, R]|   WI|\n",
      "|   Richard|    Woods|    Senior|       yes|          Database|  [skLearn, MongoDB]|   UT|\n",
      "|    Robert|   Rivera|    Junior|       yes|          Database|[Java, skLearn, P...|   PA|\n",
      "|     Tanya|  Schultz|       Mid|       yes|        Statistics|[SQL, MongoDB, R,...|   NV|\n",
      "|     Scott|    Nunez|    Senior|     maybe|          Database|[skLearn, Java, S...|   MO|\n",
      "|     Brett|  Hoffman|    Junior|        no|          Database|[Java, TensorFlow...|   OK|\n",
      "|      Sean| Williams|    Junior|        no|Data Visualization|[SQL, MongoDB, R,...|   NV|\n",
      "|    Steven|    Craig|    Senior|     maybe|Data Visualization|   [TensorFlow, SQL]|   ID|\n",
      "|       Mr.|    James|       Mid|     maybe|Data Visualization|[TensorFlow, Java...|   KY|\n",
      "|     Linda|  Griffin|    Junior|        no|        Statistics|[TensorFlow, Spar...|   NE|\n",
      "|     Jacob| Espinoza|    Junior|     maybe|        Statistics|           [skLearn]|   WV|\n",
      "|    Nicole|   Martin|       Mid|     maybe|Data Visualization|         [Java, SQL]|   NC|\n",
      "+----------+---------+----------+----------+------------------+--------------------+-----+\n",
      "only showing top 20 rows\n",
      "\n"
     ]
    }
   ],
   "source": [
    "df_flat1=df.select(explode('features.candidate').alias('candi'))\n",
    "df_flat1 = df_flat1.select('candi.first_name','candi.last_name','candi.experience','candi.relocation','candi.specialty','candi.skills','candi.state')\n",
    "df_flat1.show()"
   ]
  },
  {
   "cell_type": "code",
   "execution_count": 16,
   "id": "516b6d22-4d24-46a6-8b38-58593bf2d4d5",
   "metadata": {},
   "outputs": [
    {
     "ename": "AnalysisException",
     "evalue": "[UNSUPPORTED_DATA_TYPE_FOR_DATASOURCE] The CSV datasource doesn't support the column `skills` of the type \"ARRAY<STRING>\".",
     "output_type": "error",
     "traceback": [
      "\u001b[1;31m---------------------------------------------------------------------------\u001b[0m",
      "\u001b[1;31mAnalysisException\u001b[0m                         Traceback (most recent call last)",
      "Cell \u001b[1;32mIn[16], line 1\u001b[0m\n\u001b[1;32m----> 1\u001b[0m \u001b[43mdf_flat1\u001b[49m\u001b[38;5;241;43m.\u001b[39;49m\u001b[43mwrite\u001b[49m\u001b[38;5;241;43m.\u001b[39;49m\u001b[43mcsv\u001b[49m\u001b[43m(\u001b[49m\u001b[38;5;124;43m\"\u001b[39;49m\u001b[38;5;124;43moutput.csv\u001b[39;49m\u001b[38;5;124;43m\"\u001b[39;49m\u001b[43m,\u001b[49m\u001b[43m \u001b[49m\u001b[43mheader\u001b[49m\u001b[38;5;241;43m=\u001b[39;49m\u001b[38;5;28;43;01mTrue\u001b[39;49;00m\u001b[43m,\u001b[49m\u001b[43m \u001b[49m\u001b[43mmode\u001b[49m\u001b[38;5;241;43m=\u001b[39;49m\u001b[38;5;124;43m\"\u001b[39;49m\u001b[38;5;124;43moverwrite\u001b[39;49m\u001b[38;5;124;43m\"\u001b[39;49m\u001b[43m)\u001b[49m\n",
      "File \u001b[1;32mD:\\conda\\envs\\jupyter-env\\Lib\\site-packages\\pyspark\\sql\\readwriter.py:1864\u001b[0m, in \u001b[0;36mDataFrameWriter.csv\u001b[1;34m(self, path, mode, compression, sep, quote, escape, header, nullValue, escapeQuotes, quoteAll, dateFormat, timestampFormat, ignoreLeadingWhiteSpace, ignoreTrailingWhiteSpace, charToEscapeQuoteEscaping, encoding, emptyValue, lineSep)\u001b[0m\n\u001b[0;32m   1845\u001b[0m \u001b[38;5;28mself\u001b[39m\u001b[38;5;241m.\u001b[39mmode(mode)\n\u001b[0;32m   1846\u001b[0m \u001b[38;5;28mself\u001b[39m\u001b[38;5;241m.\u001b[39m_set_opts(\n\u001b[0;32m   1847\u001b[0m     compression\u001b[38;5;241m=\u001b[39mcompression,\n\u001b[0;32m   1848\u001b[0m     sep\u001b[38;5;241m=\u001b[39msep,\n\u001b[1;32m   (...)\u001b[0m\n\u001b[0;32m   1862\u001b[0m     lineSep\u001b[38;5;241m=\u001b[39mlineSep,\n\u001b[0;32m   1863\u001b[0m )\n\u001b[1;32m-> 1864\u001b[0m \u001b[38;5;28;43mself\u001b[39;49m\u001b[38;5;241;43m.\u001b[39;49m\u001b[43m_jwrite\u001b[49m\u001b[38;5;241;43m.\u001b[39;49m\u001b[43mcsv\u001b[49m\u001b[43m(\u001b[49m\u001b[43mpath\u001b[49m\u001b[43m)\u001b[49m\n",
      "File \u001b[1;32mD:\\conda\\envs\\jupyter-env\\Lib\\site-packages\\py4j\\java_gateway.py:1322\u001b[0m, in \u001b[0;36mJavaMember.__call__\u001b[1;34m(self, *args)\u001b[0m\n\u001b[0;32m   1316\u001b[0m command \u001b[38;5;241m=\u001b[39m proto\u001b[38;5;241m.\u001b[39mCALL_COMMAND_NAME \u001b[38;5;241m+\u001b[39m\\\n\u001b[0;32m   1317\u001b[0m     \u001b[38;5;28mself\u001b[39m\u001b[38;5;241m.\u001b[39mcommand_header \u001b[38;5;241m+\u001b[39m\\\n\u001b[0;32m   1318\u001b[0m     args_command \u001b[38;5;241m+\u001b[39m\\\n\u001b[0;32m   1319\u001b[0m     proto\u001b[38;5;241m.\u001b[39mEND_COMMAND_PART\n\u001b[0;32m   1321\u001b[0m answer \u001b[38;5;241m=\u001b[39m \u001b[38;5;28mself\u001b[39m\u001b[38;5;241m.\u001b[39mgateway_client\u001b[38;5;241m.\u001b[39msend_command(command)\n\u001b[1;32m-> 1322\u001b[0m return_value \u001b[38;5;241m=\u001b[39m \u001b[43mget_return_value\u001b[49m\u001b[43m(\u001b[49m\n\u001b[0;32m   1323\u001b[0m \u001b[43m    \u001b[49m\u001b[43manswer\u001b[49m\u001b[43m,\u001b[49m\u001b[43m \u001b[49m\u001b[38;5;28;43mself\u001b[39;49m\u001b[38;5;241;43m.\u001b[39;49m\u001b[43mgateway_client\u001b[49m\u001b[43m,\u001b[49m\u001b[43m \u001b[49m\u001b[38;5;28;43mself\u001b[39;49m\u001b[38;5;241;43m.\u001b[39;49m\u001b[43mtarget_id\u001b[49m\u001b[43m,\u001b[49m\u001b[43m \u001b[49m\u001b[38;5;28;43mself\u001b[39;49m\u001b[38;5;241;43m.\u001b[39;49m\u001b[43mname\u001b[49m\u001b[43m)\u001b[49m\n\u001b[0;32m   1325\u001b[0m \u001b[38;5;28;01mfor\u001b[39;00m temp_arg \u001b[38;5;129;01min\u001b[39;00m temp_args:\n\u001b[0;32m   1326\u001b[0m     \u001b[38;5;28;01mif\u001b[39;00m \u001b[38;5;28mhasattr\u001b[39m(temp_arg, \u001b[38;5;124m\"\u001b[39m\u001b[38;5;124m_detach\u001b[39m\u001b[38;5;124m\"\u001b[39m):\n",
      "File \u001b[1;32mD:\\conda\\envs\\jupyter-env\\Lib\\site-packages\\pyspark\\errors\\exceptions\\captured.py:185\u001b[0m, in \u001b[0;36mcapture_sql_exception.<locals>.deco\u001b[1;34m(*a, **kw)\u001b[0m\n\u001b[0;32m    181\u001b[0m converted \u001b[38;5;241m=\u001b[39m convert_exception(e\u001b[38;5;241m.\u001b[39mjava_exception)\n\u001b[0;32m    182\u001b[0m \u001b[38;5;28;01mif\u001b[39;00m \u001b[38;5;129;01mnot\u001b[39;00m \u001b[38;5;28misinstance\u001b[39m(converted, UnknownException):\n\u001b[0;32m    183\u001b[0m     \u001b[38;5;66;03m# Hide where the exception came from that shows a non-Pythonic\u001b[39;00m\n\u001b[0;32m    184\u001b[0m     \u001b[38;5;66;03m# JVM exception message.\u001b[39;00m\n\u001b[1;32m--> 185\u001b[0m     \u001b[38;5;28;01mraise\u001b[39;00m converted \u001b[38;5;28;01mfrom\u001b[39;00m \u001b[38;5;28;01mNone\u001b[39;00m\n\u001b[0;32m    186\u001b[0m \u001b[38;5;28;01melse\u001b[39;00m:\n\u001b[0;32m    187\u001b[0m     \u001b[38;5;28;01mraise\u001b[39;00m\n",
      "\u001b[1;31mAnalysisException\u001b[0m: [UNSUPPORTED_DATA_TYPE_FOR_DATASOURCE] The CSV datasource doesn't support the column `skills` of the type \"ARRAY<STRING>\"."
     ]
    }
   ],
   "source": [
    "df_flat1.write.csv(\"output.csv\", header=True, mode=\"overwrite\")"
   ]
  },
  {
   "cell_type": "code",
   "execution_count": 19,
   "id": "9d9ba9dd-f1eb-4e38-9f61-bb11d78ae200",
   "metadata": {},
   "outputs": [],
   "source": [
    "import pandas as pd"
   ]
  },
  {
   "cell_type": "code",
   "execution_count": 30,
   "id": "7c2076df-c970-41de-9144-d561a7edfc18",
   "metadata": {},
   "outputs": [
    {
     "name": "stdout",
     "output_type": "stream",
     "text": [
      "+----------+---------+----------+----------+------------------+-----+--------------------+\n",
      "|first_name|last_name|experience|relocation|         specialty|state|          skills_str|\n",
      "+----------+---------+----------+----------+------------------+-----+--------------------+\n",
      "|  Margaret| Mcdonald|       Mid|        no|          Database|   AL|skLearn,Java,R,SQ...|\n",
      "|   Michael|   Carter|    Senior|       yes|        Statistics|   AR|TensorFlow,R,Spar...|\n",
      "|    Brenda|    Tyler|       Mid|        no|          Database|   UT|               Spark|\n",
      "|    Joseph|     King|    Senior|     maybe|  Machine Learning|   FL|skLearn,SQL,R,Spa...|\n",
      "|     Laura|     Webb|    Junior|     maybe|  Machine Learning|   WY|TensorFlow,C++,SQ...|\n",
      "|    Cheryl|  Ramirez|       Mid|        no|Data Visualization|   OK|C++,Python,R,Java...|\n",
      "|   Charles|  Stewart|       Mid|     maybe|  Machine Learning|   NM|MongoDB,C++,Java,...|\n",
      "|   Bradley| Peterson|    Senior|       yes|Data Visualization|   TX|skLearn,MongoDB,S...|\n",
      "|   William|      Lin|       Mid|     maybe|  Machine Learning|   WI|    Python,skLearn,R|\n",
      "|   Richard|    Woods|    Senior|       yes|          Database|   UT|     skLearn,MongoDB|\n",
      "|    Robert|   Rivera|    Junior|       yes|          Database|   PA|Java,skLearn,Pyth...|\n",
      "|     Tanya|  Schultz|       Mid|       yes|        Statistics|   NV|SQL,MongoDB,R,C++...|\n",
      "|     Scott|    Nunez|    Senior|     maybe|          Database|   MO|skLearn,Java,SQL,...|\n",
      "|     Brett|  Hoffman|    Junior|        no|          Database|   OK| Java,TensorFlow,C++|\n",
      "|      Sean| Williams|    Junior|        no|Data Visualization|   NV| SQL,MongoDB,R,Spark|\n",
      "|    Steven|    Craig|    Senior|     maybe|Data Visualization|   ID|      TensorFlow,SQL|\n",
      "|       Mr.|    James|       Mid|     maybe|Data Visualization|   KY|TensorFlow,Java,M...|\n",
      "|     Linda|  Griffin|    Junior|        no|        Statistics|   NE|TensorFlow,Spark,...|\n",
      "|     Jacob| Espinoza|    Junior|     maybe|        Statistics|   WV|             skLearn|\n",
      "|    Nicole|   Martin|       Mid|     maybe|Data Visualization|   NC|            Java,SQL|\n",
      "+----------+---------+----------+----------+------------------+-----+--------------------+\n",
      "only showing top 20 rows\n",
      "\n"
     ]
    }
   ],
   "source": [
    "df_flat1.show()"
   ]
  },
  {
   "cell_type": "code",
   "execution_count": 33,
   "id": "d2a1fd37-5e5a-45c1-9019-c32a9e757b1e",
   "metadata": {},
   "outputs": [
    {
     "name": "stdout",
     "output_type": "stream",
     "text": [
      "+--------------------+\n",
      "|            features|\n",
      "+--------------------+\n",
      "|[{{Mid, Margaret,...|\n",
      "+--------------------+\n",
      "\n"
     ]
    }
   ],
   "source": [
    "df.show()"
   ]
  },
  {
   "cell_type": "code",
   "execution_count": 37,
   "id": "59117be5-db70-4f71-91a1-78da4a027901",
   "metadata": {},
   "outputs": [],
   "source": [
    "import os\n",
    "\n",
    "# Unset HADOOP_HOME environment variable\n",
    "os.environ.pop('HADOOP_HOME', None)\n",
    "\n",
    "# Save DataFrame as CSV using Pandas\n",
    "df_flat1.toPandas().to_csv('o.csv', index=False)\n"
   ]
  },
  {
   "cell_type": "code",
   "execution_count": 1,
   "id": "3763adf3-ac24-496a-b61f-f7ee8188bc60",
   "metadata": {},
   "outputs": [],
   "source": [
    "import pandas as pd"
   ]
  },
  {
   "cell_type": "code",
   "execution_count": 2,
   "id": "4adaa8c6-f2e0-48fc-b9ca-552e79650f68",
   "metadata": {},
   "outputs": [],
   "source": [
    "data=pd.read_json(\"employee_data.json\")"
   ]
  },
  {
   "cell_type": "code",
   "execution_count": 4,
   "id": "ace2702d-9c4a-41d3-ab8d-61ff24b2f4b7",
   "metadata": {},
   "outputs": [],
   "source": [
    "df=pd.DataFrame(data)"
   ]
  },
  {
   "cell_type": "code",
   "execution_count": 6,
   "id": "d48b7291-3dba-43d7-97bb-08fe4d144331",
   "metadata": {
    "scrolled": true
   },
   "outputs": [
    {
     "data": {
      "text/plain": [
       "<bound method DataFrame.info of                                               features\n",
       "0    {'candidate': {'first_name': 'Margaret', 'last...\n",
       "1    {'candidate': {'first_name': 'Michael', 'last_...\n",
       "2    {'candidate': {'first_name': 'Brenda', 'last_n...\n",
       "3    {'candidate': {'first_name': 'Joseph', 'last_n...\n",
       "4    {'candidate': {'first_name': 'Laura', 'last_na...\n",
       "..                                                 ...\n",
       "495  {'candidate': {'first_name': 'Robert', 'last_n...\n",
       "496  {'candidate': {'first_name': 'Lucas', 'last_na...\n",
       "497  {'candidate': {'first_name': 'Kimberly', 'last...\n",
       "498  {'candidate': {'first_name': 'Karla', 'last_na...\n",
       "499  {'candidate': {'first_name': 'Mrs.', 'last_nam...\n",
       "\n",
       "[500 rows x 1 columns]>"
      ]
     },
     "execution_count": 6,
     "metadata": {},
     "output_type": "execute_result"
    }
   ],
   "source": [
    "df.info"
   ]
  },
  {
   "cell_type": "code",
   "execution_count": 1,
   "id": "b45faef6-e3a9-4850-b1d4-036316699646",
   "metadata": {},
   "outputs": [],
   "source": [
    "import pandas as pd"
   ]
  },
  {
   "cell_type": "code",
   "execution_count": 3,
   "id": "74c9e021-4281-4784-b8ad-a8c9abf37e64",
   "metadata": {},
   "outputs": [],
   "source": [
    "df=pd.DataFrame(data)"
   ]
  },
  {
   "cell_type": "code",
   "execution_count": 4,
   "id": "6cd834de-ee13-41a7-993e-35cd2f256a44",
   "metadata": {},
   "outputs": [
    {
     "data": {
      "text/plain": [
       "<bound method NDFrame.sample of    name  age                                  cars\n",
       "0  John   30  {'car1': 'Ford', 'model': 'Mustang'}\n",
       "1  John   30        {'car2': 'BMW', 'model': 'X5'}>"
      ]
     },
     "execution_count": 4,
     "metadata": {},
     "output_type": "execute_result"
    }
   ],
   "source": [
    "df.s"
   ]
  },
  {
   "cell_type": "code",
   "execution_count": 66,
   "id": "9cb40bb2-cf1a-4367-80d9-c3f4ea9c1a6d",
   "metadata": {},
   "outputs": [],
   "source": []
  },
  {
   "cell_type": "code",
   "execution_count": null,
   "id": "8cd34e50-f42d-4a5d-80fb-d31a618a13a6",
   "metadata": {},
   "outputs": [],
   "source": []
  }
 ],
 "metadata": {
  "kernelspec": {
   "display_name": "Python 3 (ipykernel)",
   "language": "python",
   "name": "python3"
  },
  "language_info": {
   "codemirror_mode": {
    "name": "ipython",
    "version": 3
   },
   "file_extension": ".py",
   "mimetype": "text/x-python",
   "name": "python",
   "nbconvert_exporter": "python",
   "pygments_lexer": "ipython3",
   "version": "3.11.5"
  }
 },
 "nbformat": 4,
 "nbformat_minor": 5
}
