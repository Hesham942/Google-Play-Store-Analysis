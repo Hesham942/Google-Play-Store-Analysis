{
 "cells": [
  {
   "cell_type": "code",
   "execution_count": 1,
   "id": "bf4bf8cb-6674-4e4e-b723-fc6e2b73ecdb",
   "metadata": {},
   "outputs": [],
   "source": [
    "import psycopg2 as pg"
   ]
  },
  {
   "cell_type": "code",
   "execution_count": 2,
   "id": "49125d5a-e4c4-489c-8ab1-e92e147ce703",
   "metadata": {},
   "outputs": [
    {
     "name": "stdout",
     "output_type": "stream",
     "text": [
      "opened Database succesfully\n"
     ]
    }
   ],
   "source": [
    "conn= pg.connect(database=\"postgres\" , user=\"postgres\" , password=\"root\" , host=\"127.0.0.1\" , port=\"5432\")\n",
    "print (\"opened Database succesfully\")"
   ]
  },
  {
   "cell_type": "code",
   "execution_count": 9,
   "id": "bb49132c-0048-498f-98b8-0038a41b27f0",
   "metadata": {},
   "outputs": [
    {
     "name": "stdout",
     "output_type": "stream",
     "text": [
      "opened Database succesfully\n",
      "table created succesfully\n"
     ]
    }
   ],
   "source": [
    "conn = pg.connect(database=\"postgres\" , user=\"postgres\" , password=\"root\" , host=\"127.0.0.1\" , port=\"5432\")\n",
    "print (\"opened Database succesfully\")\n",
    "\n",
    "cur= conn.cursor()\n",
    "cur.execute(''' CREATE TABLE EMPLOYEES \n",
    "        ( ID INT PRIMARY KEY   NOT NULL ,\n",
    "        NAME           TEXT    NOT NULL , \n",
    "        AGE            INT     NOT NULL ,\n",
    "        CITY           CHAR(50) , \n",
    "        SALARY            REAL); ''')\n",
    "print(\"table created succesfully\")\n",
    "\n",
    "conn.commit()"
   ]
  },
  {
   "cell_type": "code",
   "execution_count": 13,
   "id": "0fb1e506-9857-4022-a9bf-47e688026ab5",
   "metadata": {},
   "outputs": [
    {
     "name": "stdout",
     "output_type": "stream",
     "text": [
      "Records created succesfully\n"
     ]
    }
   ],
   "source": [
    "conn = pg.connect(database=\"postgres\" , user=\"postgres\" , password=\"root\" , host=\"127.0.0.1\" , port=\"5432\")\n",
    "cur=conn.cursor()\n",
    "cur.execute(\"INSERT INTO EMPLOYEES (ID,NAME,AGE,CITY,SALARY) VALUES (1,'SAYED',36,'SHEBEIEN',2000.00) \");\n",
    "cur.execute(\"INSERT INTO EMPLOYEES (ID,NAME,AGE,CITY,SALARY) VALUES (2,'ALI',20,'SPAIN',60000.00) \");\n",
    "cur.execute(\"INSERT INTO EMPLOYEES (ID,NAME,AGE,CITY,SALARY) VALUES (3,'HATEM',26,'MADGASCAR',1000.00) \");\n",
    "\n",
    "conn.commit()\n",
    "print(\"Records created succesfully\")"
   ]
  },
  {
   "cell_type": "code",
   "execution_count": 14,
   "id": "3b970a9d-1691-47c3-b10c-b9bdaa81e3e5",
   "metadata": {},
   "outputs": [
    {
     "name": "stdout",
     "output_type": "stream",
     "text": [
      "ID =  5\n",
      "NAME =  HESHAM\n",
      "CITY =  SPAIN                                             \n",
      "SALARY =  60000.0 \n",
      "\n",
      "ID =  6\n",
      "NAME =  EYAD\n",
      "CITY =  MADGASCAR                                         \n",
      "SALARY =  1000.0 \n",
      "\n",
      "ID =  4\n",
      "NAME =  MAHMOUD\n",
      "CITY =  SHEBEIEN                                          \n",
      "SALARY =  2000.0 \n",
      "\n",
      "ID =  1\n",
      "NAME =  SAYED\n",
      "CITY =  SHEBEIEN                                          \n",
      "SALARY =  2000.0 \n",
      "\n",
      "ID =  2\n",
      "NAME =  ALI\n",
      "CITY =  SPAIN                                             \n",
      "SALARY =  60000.0 \n",
      "\n",
      "ID =  3\n",
      "NAME =  HATEM\n",
      "CITY =  MADGASCAR                                         \n",
      "SALARY =  1000.0 \n",
      "\n"
     ]
    }
   ],
   "source": [
    "conn = pg.connect(database=\"postgres\" , user=\"postgres\" , password=\"root\" , host=\"127.0.0.1\" , port=\"5432\")\n",
    "cur=conn.cursor()\n",
    "cur.execute(\"SELECT id , name , city , salary FROM EMPLOYEES \")\n",
    "rows = cur.fetchall()\n",
    "for row in rows :\n",
    "    print(\"ID = \" , row[0])\n",
    "    print(\"NAME = \" , row[1])\n",
    "    print(\"CITY = \" , row[2])\n",
    "    print(\"SALARY = \" , row[3] , \"\\n\")\n",
    "    "
   ]
  },
  {
   "cell_type": "code",
   "execution_count": 4,
   "id": "a0f63641-70b8-46a4-975a-5e759234bc76",
   "metadata": {},
   "outputs": [
    {
     "name": "stdout",
     "output_type": "stream",
     "text": [
      "ID =  5\n",
      "NAME =  HESHAM\n",
      "CITY =  SPAIN                                             \n",
      "SALARY =  60000.0 \n",
      "\n",
      "ID =  6\n",
      "NAME =  EYAD\n",
      "CITY =  MADGASCAR                                         \n",
      "SALARY =  1000.0 \n",
      "\n",
      "ID =  4\n",
      "NAME =  MAHMOUD\n",
      "CITY =  SHEBEIEN                                          \n",
      "SALARY =  32100.0 \n",
      "\n"
     ]
    }
   ],
   "source": [
    "conn = pg.connect(database=\"postgres\" , user=\"postgres\" , password=\"root\" , host=\"127.0.0.1\" , port=\"5432\")\n",
    "cur=conn.cursor()\n",
    "cur.execute(\"UPDATE EMPLOYEES SET salary =32100.00 WHERE ID = 4 \")\n",
    "conn.commit()\n",
    "cur.execute(\"SELECT id , name , city , salary FROM EMPLOYEES \")\n",
    "\n",
    "rows = cur.fetchall()\n",
    "for row in rows :\n",
    "    print(\"ID = \" , row[0])\n",
    "    print(\"NAME = \" , row[1])\n",
    "    print(\"CITY = \" , row[2])\n",
    "    print(\"SALARY = \" , row[3] , \"\\n\")\n",
    "    "
   ]
  },
  {
   "cell_type": "code",
   "execution_count": 6,
   "id": "53742caa-fe25-4bc1-bf37-19c01253e59d",
   "metadata": {},
   "outputs": [
    {
     "name": "stdout",
     "output_type": "stream",
     "text": [
      "ID =  5\n",
      "NAME =  HESHAM\n",
      "CITY =  SPAIN                                             \n",
      "SALARY =  60000.0 \n",
      "\n",
      "ID =  6\n",
      "NAME =  EYAD\n",
      "CITY =  MADGASCAR                                         \n",
      "SALARY =  1000.0 \n",
      "\n"
     ]
    }
   ],
   "source": [
    "conn = pg.connect(database=\"postgres\" , user=\"postgres\" , password=\"root\" , host=\"127.0.0.1\" , port=\"5432\")\n",
    "cur=conn.cursor()\n",
    "cur.execute(\"DELETE FROM EMPLOYEES WHERE ID = 4 \")\n",
    "conn.commit()\n",
    "cur.execute(\"SELECT id , name , city , salary FROM EMPLOYEES \")\n",
    "\n",
    "rows = cur.fetchall()\n",
    "for row in rows :\n",
    "    print(\"ID = \" , row[0])\n",
    "    print(\"NAME = \" , row[1])\n",
    "    print(\"CITY = \" , row[2])\n",
    "    print(\"SALARY = \" , row[3] , \"\\n\")\n",
    "    "
   ]
  },
  {
   "cell_type": "markdown",
   "id": "89d4e8ea-9aaa-444f-8b07-22737e7583f5",
   "metadata": {},
   "source": [
    "## DEPARTMENT"
   ]
  },
  {
   "cell_type": "code",
   "execution_count": 10,
   "id": "84a93fa1-e88a-4ed5-98bc-964dada3aeca",
   "metadata": {},
   "outputs": [
    {
     "name": "stdout",
     "output_type": "stream",
     "text": [
      "opened Database succesfully\n",
      "table created succesfully\n"
     ]
    }
   ],
   "source": [
    "conn = pg.connect(database=\"postgres\" , user=\"postgres\" , password=\"root\" , host=\"127.0.0.1\" , port=\"5432\")\n",
    "print (\"opened Database succesfully\")\n",
    "\n",
    "cur= conn.cursor()\n",
    "cur.execute(''' CREATE TABLE DEPARTMENT \n",
    "        ( ID INT PRIMARY KEY   NOT NULL ,\n",
    "        EMPLOYEE_ID INT NOT NULL REFERENCES EMPLOYEES(ID) ,\n",
    "        DEPARTMENT_NAME           TEXT    NOT NULL , \n",
    "        EXPERIENCE            INT     NOT NULL \n",
    "        ); ''')\n",
    "print(\"table created succesfully\")\n",
    "\n",
    "conn.commit()"
   ]
  },
  {
   "cell_type": "code",
   "execution_count": 15,
   "id": "29090679-da69-42a7-8d97-083f3be6ad87",
   "metadata": {},
   "outputs": [
    {
     "name": "stdout",
     "output_type": "stream",
     "text": [
      "Records created succesfully\n"
     ]
    }
   ],
   "source": [
    "conn = pg.connect(database=\"postgres\" , user=\"postgres\" , password=\"root\" , host=\"127.0.0.1\" , port=\"5432\")\n",
    "cur=conn.cursor()\n",
    "cur.execute(\"INSERT INTO DEPARTMENT (ID,EMPLOYEE_ID,DEPARTMENT_NAME,EXPERIENCE ) VALUES (1,1,'ENG',4) \");\n",
    "cur.execute(\"INSERT INTO DEPARTMENT (ID,EMPLOYEE_ID,DEPARTMENT_NAME,EXPERIENCE ) VALUES (2,2,'ENGaRC',2) \");\n",
    "cur.execute(\"INSERT INTO DEPARTMENT (ID,EMPLOYEE_ID,DEPARTMENT_NAME,EXPERIENCE ) VALUES (3,3,'CS',6) \");\n",
    "cur.execute(\"INSERT INTO DEPARTMENT (ID,EMPLOYEE_ID,DEPARTMENT_NAME,EXPERIENCE ) VALUES (4,4,'AI',7) \");\n",
    "cur.execute(\"INSERT INTO DEPARTMENT (ID,EMPLOYEE_ID,DEPARTMENT_NAME,EXPERIENCE ) VALUES (5,5,'IOT',1) \");\n",
    "cur.execute(\"INSERT INTO DEPARTMENT (ID,EMPLOYEE_ID,DEPARTMENT_NAME,EXPERIENCE ) VALUES (6,6,'DS',2) \");\n",
    "\n",
    "conn.commit()\n",
    "print(\"Records created succesfully\")"
   ]
  },
  {
   "cell_type": "code",
   "execution_count": 21,
   "id": "596cc4b9-c06a-44ea-a20e-1db15107c997",
   "metadata": {},
   "outputs": [
    {
     "name": "stdout",
     "output_type": "stream",
     "text": [
      "ID =  1\n",
      "EMPLOYEE_ID =  1\n",
      "DEPARTMENT_NAME =  ENG\n",
      "EXPERIENCE =  4 \n",
      "\n",
      "ID =  2\n",
      "EMPLOYEE_ID =  2\n",
      "DEPARTMENT_NAME =  ENGaRC\n",
      "EXPERIENCE =  2 \n",
      "\n",
      "ID =  3\n",
      "EMPLOYEE_ID =  3\n",
      "DEPARTMENT_NAME =  CS\n",
      "EXPERIENCE =  6 \n",
      "\n",
      "ID =  4\n",
      "EMPLOYEE_ID =  4\n",
      "DEPARTMENT_NAME =  AI\n",
      "EXPERIENCE =  7 \n",
      "\n",
      "ID =  5\n",
      "EMPLOYEE_ID =  5\n",
      "DEPARTMENT_NAME =  IOT\n",
      "EXPERIENCE =  1 \n",
      "\n",
      "ID =  6\n",
      "EMPLOYEE_ID =  6\n",
      "DEPARTMENT_NAME =  DS\n",
      "EXPERIENCE =  2 \n",
      "\n"
     ]
    }
   ],
   "source": [
    "conn = pg.connect(database=\"postgres\" , user=\"postgres\" , password=\"root\" , host=\"127.0.0.1\" , port=\"5432\")\n",
    "cur=conn.cursor()\n",
    "cur.execute(\"SELECT ID,EMPLOYEE_ID,DEPARTMENT_NAME,EXPERIENCE FROM DEPARTMENT \")\n",
    "rows = cur.fetchall()\n",
    "for row in rows :\n",
    "    print(\"ID = \" , row[0])\n",
    "    print(\"EMPLOYEE_ID = \" , row[1])\n",
    "    print(\"DEPARTMENT_NAME = \" , row[2])\n",
    "    print(\"EXPERIENCE = \" , row[3] , \"\\n\")"
   ]
  },
  {
   "cell_type": "code",
   "execution_count": null,
   "id": "904fbe55-0565-4d23-ae87-7f3d701f4a67",
   "metadata": {},
   "outputs": [],
   "source": []
  }
 ],
 "metadata": {
  "kernelspec": {
   "display_name": "Python 3 (ipykernel)",
   "language": "python",
   "name": "python3"
  },
  "language_info": {
   "codemirror_mode": {
    "name": "ipython",
    "version": 3
   },
   "file_extension": ".py",
   "mimetype": "text/x-python",
   "name": "python",
   "nbconvert_exporter": "python",
   "pygments_lexer": "ipython3",
   "version": "3.11.5"
  }
 },
 "nbformat": 4,
 "nbformat_minor": 5
}
